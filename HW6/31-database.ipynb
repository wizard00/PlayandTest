{
 "cells": [
  {
   "cell_type": "markdown",
   "metadata": {},
   "source": [
    "# SQL Databases\n",
    "- easy to use from Python\n",
    "- many different dbs are supported: sqlite3, mysql, postgres, oracle..."
   ]
  },
  {
   "cell_type": "code",
   "execution_count": 1,
   "metadata": {
    "collapsed": false
   },
   "outputs": [
    {
     "data": {
      "text/plain": [
       "['rice',\n",
       " 'dttr',\n",
       " 'hkax',\n",
       " 'ndbz',\n",
       " 'kmnt',\n",
       " 'gclc',\n",
       " 'jegm',\n",
       " 'lsyx',\n",
       " 'exrc',\n",
       " 'txqs']"
      ]
     },
     "execution_count": 1,
     "metadata": {},
     "output_type": "execute_result"
    }
   ],
   "source": [
    "# need some names to build a database, so made some random strings\n",
    "# but these are hard to read...\n",
    "\n",
    "import random\n",
    "\n",
    "def rs(n):\n",
    "    # chr takes an ascii code and returns the letter in a string\n",
    "    return(''.join( [ chr(random.randint(97, 122)) for j in range(n)] ))\n",
    "[ rs(4) for j in range(10)]"
   ]
  },
  {
   "cell_type": "code",
   "execution_count": 2,
   "metadata": {
    "collapsed": false
   },
   "outputs": [
    {
     "data": {
      "text/plain": [
       "[['Edie',\n",
       "  'Anet',\n",
       "  'Kyle',\n",
       "  'Kent',\n",
       "  'Hiro',\n",
       "  'Remy',\n",
       "  'Emmy',\n",
       "  'Etty',\n",
       "  'Sena',\n",
       "  'Andy'],\n",
       " ['Rosie',\n",
       "  'Amata',\n",
       "  'Conan',\n",
       "  'Stace',\n",
       "  'Stern',\n",
       "  'Codee',\n",
       "  'Candy',\n",
       "  'Linet',\n",
       "  'Alana',\n",
       "  'Rahal']]"
      ]
     },
     "execution_count": 2,
     "metadata": {},
     "output_type": "execute_result"
    }
   ],
   "source": [
    "# nltk corpus has 8,000 real names!\n",
    "# get some short ones\n",
    "\n",
    "import random\n",
    "import nltk\n",
    "def names(wcnt, wlen):\n",
    "    names = [ w for w in nltk.corpus.names.words() if len(w) == wlen]\n",
    "    # random doesn't have a 'random subset' routine\n",
    "    # so do a shuffle \n",
    "    random.shuffle(names)\n",
    "    # then just take random names from the front\n",
    "    return names[:wcnt]\n",
    "\n",
    "firsts = names(10, 4)\n",
    "lasts = names(10, 5)\n",
    "\n",
    "[firsts, lasts]"
   ]
  },
  {
   "cell_type": "code",
   "execution_count": 3,
   "metadata": {
    "collapsed": false
   },
   "outputs": [],
   "source": [
    "# sqlite stores data in one file\n",
    "# delete old db if present\n",
    "\n",
    "import sqlite3\n",
    "import os\n",
    "import random\n",
    "dbf = '/tmp/3.db'\n",
    "os.remove(dbf)"
   ]
  },
  {
   "cell_type": "code",
   "execution_count": 4,
   "metadata": {
    "collapsed": false
   },
   "outputs": [],
   "source": [
    "# make a connection and cursor\n",
    "\n",
    "con = sqlite3.connect(dbf)\n",
    "cur = con.cursor()"
   ]
  },
  {
   "cell_type": "markdown",
   "metadata": {},
   "source": [
    "# Create two tables\n",
    "- grade(uni, course, grade)\n",
    "- student(first, last, uni)"
   ]
  },
  {
   "cell_type": "code",
   "execution_count": 5,
   "metadata": {
    "collapsed": false
   },
   "outputs": [
    {
     "data": {
      "text/plain": [
       "<sqlite3.Cursor at 0x1105bbc00>"
      ]
     },
     "execution_count": 5,
     "metadata": {},
     "output_type": "execute_result"
    }
   ],
   "source": [
    "cur.execute('create table grade (uni text, course text, grade real)')"
   ]
  },
  {
   "cell_type": "code",
   "execution_count": 6,
   "metadata": {
    "collapsed": false
   },
   "outputs": [
    {
     "data": {
      "text/plain": [
       "<sqlite3.Cursor at 0x1105bbc00>"
      ]
     },
     "execution_count": 6,
     "metadata": {},
     "output_type": "execute_result"
    }
   ],
   "source": [
    "cur.execute('create table student (first text, last text, uni text)')"
   ]
  },
  {
   "cell_type": "markdown",
   "metadata": {},
   "source": [
    "# Build student table"
   ]
  },
  {
   "cell_type": "code",
   "execution_count": 7,
   "metadata": {
    "collapsed": false
   },
   "outputs": [
    {
     "data": {
      "text/plain": [
       "[['Emmy', 'Conan', 'ec1753'],\n",
       " ['Hiro', 'Codee', 'hc3904'],\n",
       " ['Sena', 'Linet', 'sl5109'],\n",
       " ['Andy', 'Rosie', 'ar5224'],\n",
       " ['Edie', 'Codee', 'ec6284'],\n",
       " ['Remy', 'Stern', 'rs5796'],\n",
       " ['Sena', 'Candy', 'sc2792'],\n",
       " ['Hiro', 'Conan', 'hc2873'],\n",
       " ['Remy', 'Codee', 'rc6029'],\n",
       " ['Andy', 'Conan', 'ac4339']]"
      ]
     },
     "execution_count": 7,
     "metadata": {},
     "output_type": "execute_result"
    }
   ],
   "source": [
    "# first, last, uni\n",
    "\n",
    "students = [ [random.choice(firsts), random.choice(lasts)] for k in range(10)]\n",
    "students = [ [f, l, (f[0] + l[0] + str(random.randint(1000,9999))).lower()] for f,l in students]\n",
    "students"
   ]
  },
  {
   "cell_type": "code",
   "execution_count": 8,
   "metadata": {
    "collapsed": false
   },
   "outputs": [
    {
     "data": {
      "text/plain": [
       "<sqlite3.Cursor at 0x1105bbc00>"
      ]
     },
     "execution_count": 8,
     "metadata": {},
     "output_type": "execute_result"
    }
   ],
   "source": [
    "# insert above list into db\n",
    "\n",
    "cur.executemany('insert into student values(?, ?, ?)', students)"
   ]
  },
  {
   "cell_type": "code",
   "execution_count": 9,
   "metadata": {
    "collapsed": false
   },
   "outputs": [
    {
     "data": {
      "text/plain": [
       "<sqlite3.Cursor at 0x1105bbc00>"
      ]
     },
     "execution_count": 9,
     "metadata": {},
     "output_type": "execute_result"
    }
   ],
   "source": [
    "# the select returns a generator\n",
    "\n",
    "sg = cur.execute('select uni, last from student')\n",
    "sg"
   ]
  },
  {
   "cell_type": "code",
   "execution_count": 10,
   "metadata": {
    "collapsed": false
   },
   "outputs": [
    {
     "data": {
      "text/plain": [
       "[('ec1753', 'Conan'),\n",
       " ('hc3904', 'Codee'),\n",
       " ('sl5109', 'Linet'),\n",
       " ('ar5224', 'Rosie'),\n",
       " ('ec6284', 'Codee'),\n",
       " ('rs5796', 'Stern'),\n",
       " ('sc2792', 'Candy'),\n",
       " ('hc2873', 'Conan'),\n",
       " ('rc6029', 'Codee'),\n",
       " ('ac4339', 'Conan')]"
      ]
     },
     "execution_count": 10,
     "metadata": {},
     "output_type": "execute_result"
    }
   ],
   "source": [
    "rows = list(sg)\n",
    "rows"
   ]
  },
  {
   "cell_type": "code",
   "execution_count": 11,
   "metadata": {
    "collapsed": false
   },
   "outputs": [
    {
     "data": {
      "text/plain": [
       "['ec1753',\n",
       " 'hc3904',\n",
       " 'sl5109',\n",
       " 'ar5224',\n",
       " 'ec6284',\n",
       " 'rs5796',\n",
       " 'sc2792',\n",
       " 'hc2873',\n",
       " 'rc6029',\n",
       " 'ac4339']"
      ]
     },
     "execution_count": 11,
     "metadata": {},
     "output_type": "execute_result"
    }
   ],
   "source": [
    "# pull the uni out of the tuple \n",
    "\n",
    "unis = [t[0] for t in cur.execute('select uni from student')]\n",
    "unis"
   ]
  },
  {
   "cell_type": "code",
   "execution_count": 12,
   "metadata": {
    "collapsed": false
   },
   "outputs": [
    {
     "data": {
      "text/plain": [
       "['COMSW 3902', 'COMSW 5346', 'COMSW 1204', 'COMSW 7139', 'COMSW 9959']"
      ]
     },
     "execution_count": 12,
     "metadata": {},
     "output_type": "execute_result"
    }
   ],
   "source": [
    "# classes \n",
    "\n",
    "classes = ['COMSW {}'.format(random.randint(1000, 9999)) for j in range(5)]\n",
    "classes"
   ]
  },
  {
   "cell_type": "code",
   "execution_count": 13,
   "metadata": {
    "collapsed": false
   },
   "outputs": [
    {
     "data": {
      "text/plain": [
       "[['ec1753', 'COMSW 9959', 94.619147777136],\n",
       " ['hc3904', 'COMSW 9959', 80.81429428882099],\n",
       " ['sl5109', 'COMSW 1204', 79.7282376275868],\n",
       " ['ar5224', 'COMSW 3902', 73.26881451813999],\n",
       " ['ec6284', 'COMSW 7139', 87.02585843631144],\n",
       " ['rs5796', 'COMSW 5346', 89.56020416691507],\n",
       " ['sc2792', 'COMSW 9959', 94.05220083338104],\n",
       " ['hc2873', 'COMSW 9959', 86.27553337272258],\n",
       " ['rc6029', 'COMSW 9959', 81.44202789944794],\n",
       " ['ac4339', 'COMSW 1204', 94.98240774591221]]"
      ]
     },
     "execution_count": 13,
     "metadata": {},
     "output_type": "execute_result"
    }
   ],
   "source": [
    "# students take finals\n",
    "\n",
    "grades = [ [u , random.choice(classes), 70 + 30 * random.random() ] for u in unis ]\n",
    "grades"
   ]
  },
  {
   "cell_type": "code",
   "execution_count": 14,
   "metadata": {
    "collapsed": false
   },
   "outputs": [
    {
     "data": {
      "text/plain": [
       "<sqlite3.Cursor at 0x1105bbc00>"
      ]
     },
     "execution_count": 14,
     "metadata": {},
     "output_type": "execute_result"
    }
   ],
   "source": [
    "cur.executemany('insert into grade values(?, ?, ?)', grades)"
   ]
  },
  {
   "cell_type": "code",
   "execution_count": 15,
   "metadata": {
    "collapsed": false
   },
   "outputs": [
    {
     "data": {
      "text/plain": [
       "[('Emmy', 'Conan', 'ec1753', 94.619147777136),\n",
       " ('Hiro', 'Codee', 'hc3904', 80.81429428882099),\n",
       " ('Sena', 'Linet', 'sl5109', 79.7282376275868),\n",
       " ('Andy', 'Rosie', 'ar5224', 73.26881451813999),\n",
       " ('Edie', 'Codee', 'ec6284', 87.02585843631144),\n",
       " ('Remy', 'Stern', 'rs5796', 89.56020416691507),\n",
       " ('Sena', 'Candy', 'sc2792', 94.05220083338104),\n",
       " ('Hiro', 'Conan', 'hc2873', 86.27553337272258),\n",
       " ('Remy', 'Codee', 'rc6029', 81.44202789944794),\n",
       " ('Andy', 'Conan', 'ac4339', 94.98240774591221)]"
      ]
     },
     "execution_count": 15,
     "metadata": {},
     "output_type": "execute_result"
    }
   ],
   "source": [
    "# join the two tables on the uni field\n",
    "\n",
    "list(cur.execute('select first, last, student.uni, grade from student , grade  where student.uni = grade.uni'))"
   ]
  },
  {
   "cell_type": "code",
   "execution_count": 16,
   "metadata": {
    "collapsed": false
   },
   "outputs": [
    {
     "data": {
      "text/plain": [
       "[('Candy', 'Sena', 94.05220083338104),\n",
       " ('Codee', 'Hiro', 80.81429428882099),\n",
       " ('Codee', 'Edie', 87.02585843631144),\n",
       " ('Codee', 'Remy', 81.44202789944794),\n",
       " ('Conan', 'Emmy', 94.619147777136),\n",
       " ('Conan', 'Hiro', 86.27553337272258),\n",
       " ('Conan', 'Andy', 94.98240774591221),\n",
       " ('Stern', 'Remy', 89.56020416691507)]"
      ]
     },
     "execution_count": 16,
     "metadata": {},
     "output_type": "execute_result"
    }
   ],
   "source": [
    "# add a filter term\n",
    "\n",
    "q = 'select last, first,grade from student,grade' \n",
    "q += ' where grade>80 and student.uni = grade.uni'\n",
    "q += ' order by last'\n",
    "list(cur.execute(q))"
   ]
  },
  {
   "cell_type": "code",
   "execution_count": 17,
   "metadata": {
    "collapsed": true
   },
   "outputs": [],
   "source": [
    "# always commit and close the connection\n",
    "\n",
    "con.commit()\n",
    "con.close()"
   ]
  },
  {
   "cell_type": "code",
   "execution_count": 18,
   "metadata": {
    "collapsed": false
   },
   "outputs": [
    {
     "data": {
      "text/plain": [
       "[('Candy', 'Sena', 94.05220083338104),\n",
       " ('Codee', 'Hiro', 80.81429428882099),\n",
       " ('Codee', 'Edie', 87.02585843631144),\n",
       " ('Codee', 'Remy', 81.44202789944794),\n",
       " ('Conan', 'Emmy', 94.619147777136),\n",
       " ('Conan', 'Hiro', 86.27553337272258),\n",
       " ('Conan', 'Andy', 94.98240774591221),\n",
       " ('Stern', 'Remy', 89.56020416691507)]"
      ]
     },
     "execution_count": 18,
     "metadata": {},
     "output_type": "execute_result"
    }
   ],
   "source": [
    "# data is persisted on disk, can read again\n",
    "# normally would use a with statement to automatically close\n",
    "\n",
    "res=None\n",
    "\n",
    "with sqlite3.connect(dbf) as con:\n",
    "    cur = con.cursor()\n",
    "    res = list(cur.execute(q))\n",
    "\n",
    "res"
   ]
  },
  {
   "cell_type": "markdown",
   "metadata": {},
   "source": [
    "# Object Relational Mappers\n",
    "- maps objects into a relational database\n",
    "- somewhat complex but very useful\n",
    "- best known one is [SQLAlchemy](http://www.sqlalchemy.org)\n",
    "- [peewee](http://docs.peewee-orm.com/en/latest/) is a simple one\n",
    "- [hibernate](http://hibernate.org) was a pioneering and hugely successful ORM for Java"
   ]
  },
  {
   "cell_type": "markdown",
   "metadata": {},
   "source": [
    "# NoSQL databases\n",
    "- provide less functionality than SQL, but are more efficient and scale better\n",
    "- [mongodb](https://www.mongodb.org) is a popular one\n",
    "- [PyMongo](https://docs.mongodb.org/getting-started/python/client/) is the python driver for mongodb\n"
   ]
  }
 ],
 "metadata": {
  "kernelspec": {
   "display_name": "Python 3",
   "language": "python",
   "name": "python3"
  },
  "language_info": {
   "codemirror_mode": {
    "name": "ipython",
    "version": 3
   },
   "file_extension": ".py",
   "mimetype": "text/x-python",
   "name": "python",
   "nbconvert_exporter": "python",
   "pygments_lexer": "ipython3",
   "version": "3.5.1"
  }
 },
 "nbformat": 4,
 "nbformat_minor": 0
}
