{
 "cells": [
  {
   "cell_type": "markdown",
   "metadata": {},
   "source": [
    "# opencv\n",
    "- huge computer vision image processing package\n",
    "- many operations run in real time on incomming video\n",
    "- sample demos\n",
    "    - turing, texture_flow, contours, squares\n",
    "    - with camera - opt_flow, lk_track, color_histogram, edge\n",
    "- [opencv docs]()\n",
    "- [python interface docs]()"
   ]
  }
 ],
 "metadata": {
  "kernelspec": {
   "display_name": "Python 3",
   "language": "python",
   "name": "python3"
  },
  "language_info": {
   "codemirror_mode": {
    "name": "ipython",
    "version": 3
   },
   "file_extension": ".py",
   "mimetype": "text/x-python",
   "name": "python",
   "nbconvert_exporter": "python",
   "pygments_lexer": "ipython3",
   "version": "3.5.1"
  }
 },
 "nbformat": 4,
 "nbformat_minor": 0
}
