{
 "cells": [
  {
   "cell_type": "markdown",
   "metadata": {},
   "source": [
    "# Regular Expressions\n",
    "- fairly standard implementation\n",
    "- compile and match objects"
   ]
  },
  {
   "cell_type": "code",
   "execution_count": 1,
   "metadata": {
    "collapsed": true
   },
   "outputs": [],
   "source": [
    "import re\n",
    "\n",
    "pat = 'x[0-9]+y'\n",
    "s = 'zxcvx9784843845ysdfx234yzxcv234'"
   ]
  },
  {
   "cell_type": "code",
   "execution_count": 2,
   "metadata": {
    "collapsed": false
   },
   "outputs": [
    {
     "data": {
      "text/plain": [
       "re.compile(r'x[0-9]+y', re.UNICODE)"
      ]
     },
     "execution_count": 2,
     "metadata": {},
     "output_type": "execute_result"
    }
   ],
   "source": [
    "# compile the regular pattern for speed\n",
    "\n",
    "rec=re.compile(pat)\n",
    "rec"
   ]
  },
  {
   "cell_type": "code",
   "execution_count": 3,
   "metadata": {
    "collapsed": false
   },
   "outputs": [
    {
     "data": {
      "text/plain": [
       "['x9784843845y', 'x234y']"
      ]
     },
     "execution_count": 3,
     "metadata": {},
     "output_type": "execute_result"
    }
   ],
   "source": [
    "# find all substrings that match the pattern\n",
    "\n",
    "rec.findall(s)"
   ]
  },
  {
   "cell_type": "code",
   "execution_count": 4,
   "metadata": {
    "collapsed": false
   },
   "outputs": [
    {
     "data": {
      "text/plain": [
       "'zxcvFOOBARsdfFOOBARzxcv234'"
      ]
     },
     "execution_count": 4,
     "metadata": {},
     "output_type": "execute_result"
    }
   ],
   "source": [
    "# replace the pattern with a string\n",
    "\n",
    "re.sub(pat, 'FOOBAR', s)"
   ]
  },
  {
   "cell_type": "code",
   "execution_count": 5,
   "metadata": {
    "collapsed": false
   },
   "outputs": [
    {
     "data": {
      "text/plain": [
       "['zxcv', 'sdf', 'zxcv234']"
      ]
     },
     "execution_count": 5,
     "metadata": {},
     "output_type": "execute_result"
    }
   ],
   "source": [
    "# split on the pattern\n",
    "\n",
    "re.split(pat, s)"
   ]
  },
  {
   "cell_type": "code",
   "execution_count": 6,
   "metadata": {
    "collapsed": false
   },
   "outputs": [
    {
     "data": {
      "text/plain": [
       "[8881,\n",
       " 1150,\n",
       " defaultdict(int,\n",
       "             {'All': 4,\n",
       "              'BERNARDO': 23,\n",
       "              'CORNELIUS': 1,\n",
       "              'Captain': 7,\n",
       "              'Danes': 3,\n",
       "              'FRANCISCO': 8,\n",
       "              'First Ambassador': 1,\n",
       "              'First Clown': 33,\n",
       "              'First Player': 8,\n",
       "              'First Priest': 2,\n",
       "              'First Sailor': 2,\n",
       "              'GUILDENSTERN': 33,\n",
       "              'Gentleman': 3,\n",
       "              'Ghost': 14,\n",
       "              'HAMLET': 359,\n",
       "              'HORATIO': 112,\n",
       "              'KING CLAUDIUS': 102,\n",
       "              'LAERTES': 62,\n",
       "              'LORD POLONIUS': 86,\n",
       "              'LUCIANUS': 1,\n",
       "              'Lord': 3,\n",
       "              'MARCELLUS': 36,\n",
       "              'Messenger': 2,\n",
       "              'OPHELIA': 58,\n",
       "              'OSRIC': 25,\n",
       "              'PRINCE FORTINBRAS': 6,\n",
       "              'Player King': 4,\n",
       "              'Player Queen': 5,\n",
       "              'Prologue': 1,\n",
       "              'QUEEN GERTRUDE': 69,\n",
       "              'REYNALDO': 13,\n",
       "              'ROSENCRANTZ': 49,\n",
       "              'Second Clown': 12,\n",
       "              'Servant': 1,\n",
       "              'VOLTIMAND': 2})]"
      ]
     },
     "execution_count": 6,
     "metadata": {},
     "output_type": "execute_result"
    }
   ],
   "source": [
    "# another way to analyse hamlet\n",
    "\n",
    "import urllib.request\n",
    "import collections\n",
    "\n",
    "url='https://courseworks.columbia.edu/access/content/group/'\n",
    "url+='COMSW3101_002_2015_3/data/hamlet.html'\n",
    "\n",
    "def actors(url):\n",
    "    # orginal pattern\n",
    "    pat = '<A NAME=speech[0-9]+><b>(.+)</b></a>'\n",
    "    comp = re.compile(pat) \n",
    "    ef = urllib.request.urlopen(url)\n",
    "    cd = collections.defaultdict(int)\n",
    "    lcnt=0\n",
    "    for ba in ef:\n",
    "        s = ba.decode('utf-8')\n",
    "        lcnt += 1\n",
    "        m = comp.match(s)\n",
    "        if m != None:\n",
    "            name = m.group(1)\n",
    "            cd[name] += 1\n",
    "    speeches = sum(cd.values())\n",
    "    return([lcnt,speeches, cd])\n",
    "\n",
    "actors(url)"
   ]
  },
  {
   "cell_type": "code",
   "execution_count": null,
   "metadata": {
    "collapsed": true
   },
   "outputs": [],
   "source": []
  }
 ],
 "metadata": {
  "kernelspec": {
   "display_name": "Python 3",
   "language": "python",
   "name": "python3"
  },
  "language_info": {
   "codemirror_mode": {
    "name": "ipython",
    "version": 3
   },
   "file_extension": ".py",
   "mimetype": "text/x-python",
   "name": "python",
   "nbconvert_exporter": "python",
   "pygments_lexer": "ipython3",
   "version": "3.5.1"
  }
 },
 "nbformat": 4,
 "nbformat_minor": 0
}
