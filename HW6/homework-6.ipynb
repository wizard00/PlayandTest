{
 "cells": [
  {
   "cell_type": "markdown",
   "metadata": {},
   "source": [
    "# Introduction to Python\n",
    "\n",
    "# Homework #6\n",
    "# Due Monday May 9, 6pm\n"
   ]
  },
  {
   "cell_type": "markdown",
   "metadata": {},
   "source": [
    "# Academic Honesty\n",
    "* The computer science department has strict polices. Check\n",
    "the department [web page](http://www.cs.columbia.edu/education/honesty) for details. \n",
    "- Do not look at anybody else's source code. Do not show anybody\n",
    "your source, or leave your source where somebody could see it.\n",
    "You MUST write your own code.\n",
    "- For this class, feel free to discuss issues with other people, but suggest waiting an hour or two after a discussion, before writing your code.\n",
    "-  Cases of non original source will be refered to the Judical Committee.\n",
    "\n"
   ]
  },
  {
   "cell_type": "markdown",
   "metadata": {},
   "source": [
    "# Reminder \n",
    "- if you have already done four homeworks and are happy with them, you do NOT need to do this one"
   ]
  },
  {
   "cell_type": "markdown",
   "metadata": {},
   "source": [
    "# Problem 1 - stars"
   ]
  },
  {
   "cell_type": "markdown",
   "metadata": {},
   "source": [
    "# get stars data\n",
    "- download and unpack [stars.zip](https://courseworks.columbia.edu/access/content/group/COMSW3101_002_2015_3/week6/stars.zip)\n",
    "somewhere in your file system\n",
    "- set 'basedir' to location of 'YOURPATH/stars/near'"
   ]
  },
  {
   "cell_type": "code",
   "execution_count": 1,
   "metadata": {
    "collapsed": true
   },
   "outputs": [],
   "source": [
    "basedir = '/Users/Yufei-Mac/Desktop/playandtest/HW6/stars/near'"
   ]
  },
  {
   "cell_type": "markdown",
   "metadata": {},
   "source": [
    "# write loadFileProperties\n",
    "- each line in file is in 'key=value' format\n",
    "- value is either a float or a quoted string\n",
    "- convert 'float strings' into floats"
   ]
  },
  {
   "cell_type": "code",
   "execution_count": 2,
   "metadata": {
    "collapsed": false
   },
   "outputs": [
    {
     "name": "stdout",
     "output_type": "stream",
     "text": [
      "ApparentMagnitude=-26.72\n",
      "EffectiveTemperature=5.78e3\n",
      "Constellation=\"Virgo\"\n",
      "Gravity=898.79\n",
      "SpectralClass=\"G2V\"\n",
      "EscapeVelocity=1.3814e6\n",
      "AlphanumericName=\"Sun\"\n"
     ]
    }
   ],
   "source": [
    "import os\n",
    "\n",
    "sunpath = os.path.join(basedir, 'Sun')\n",
    "\n",
    "with open(sunpath) as f:\n",
    "    for line in f:\n",
    "        print(line.strip())"
   ]
  },
  {
   "cell_type": "code",
   "execution_count": 45,
   "metadata": {
    "collapsed": false
   },
   "outputs": [
    {
     "name": "stdout",
     "output_type": "stream",
     "text": [
      "{'ApparentMagnitude': '-26.72', 'SpectralClass': 'G2V', 'EffectiveTemperature': '5.78e3', 'EscapeVelocity': '1.3814e6', 'Constellation': 'Virgo', 'Gravity': '898.79', 'AlphanumericName': 'Sun'}\n"
     ]
    }
   ],
   "source": [
    "# convert value float strings to floats \n",
    "# string values should only have one set of quotes - \n",
    "# should have \n",
    "# 'SpectralClass': 'G2V'\n",
    "# not \n",
    "# 'SpectralClass': '\"G2V\"'\n",
    "sunpath = os.path.join(basedir, 'Sun')\n",
    "def loadFileProperties(path):\n",
    "    dict = {}\n",
    "    with open(path) as f:\n",
    "        for line in f:\n",
    "            a,b = line.strip().split('=')\n",
    "            b = b.strip(\"\\\"\")\n",
    "            dict[a] = b\n",
    "        return dict\n",
    "            \n",
    "x = loadFileProperties(sunpath)\n",
    "print(x)"
   ]
  },
  {
   "cell_type": "markdown",
   "metadata": {},
   "source": [
    "# write stars class\n",
    "- ```__init__()``` method\n",
    "    - makes a sqlite3 database(in memory)\n",
    "    - defines a star table in SQL\n",
    "    - loads all the stars in stars/near, using loadFileProperties, into the DB\n",
    "- query() method just hits SQL DB\n",
    "- [sqlite3 doc](https://docs.python.org/3.5/library/sqlite3.html)"
   ]
  },
  {
   "cell_type": "code",
   "execution_count": 59,
   "metadata": {
    "collapsed": false
   },
   "outputs": [],
   "source": [
    "import os\n",
    "from os import listdir\n",
    "import sqlite3\n",
    "\n",
    "class stars:\n",
    "\n",
    "    def __init__(self, basedir):\n",
    "        # makes a database that lives in memory\n",
    "        self.con = sqlite3.connect(':memory:')\n",
    "        \n",
    "        fields = ['AlphanumericName', 'ApparentMagnitude', 'Constellation',\n",
    "            'EffectiveTemperature', 'EscapeVelocity',\n",
    "            'Gravity', 'SpectralClass']\n",
    "        sqlTypes = ['text', 'real', 'text', 'real', 'real', 'real', 'text']\n",
    "\n",
    "        # make star table in DB\n",
    "        cur = self.con.cursor()\n",
    "        query = 'create table star ('\n",
    "        for a,b in zip(fields,sqlTypes):\n",
    "            query = query + a +' '+b+','\n",
    "        query = query[:-1]\n",
    "        query += ')'\n",
    "        print(query)\n",
    "        cur.execute(query)\n",
    "        \n",
    "        # your code\n",
    "        onlyfiles = [f for f in listdir(basedir)]\n",
    "        querydata = []\n",
    "        for x in onlyfiles:\n",
    "            starpath = os.path.join(basedir, x)\n",
    "            dictx = loadFileProperties(starpath)\n",
    "            value = [dictx[y] for y in fields]\n",
    "            querydata.append(value)\n",
    "        cur.executemany('insert into star values(?, ?, ?, ?, ?, ?, ?)', querydata)\n",
    "    def query(self, q):\n",
    "        return self.con.execute(q)"
   ]
  },
  {
   "cell_type": "code",
   "execution_count": 60,
   "metadata": {
    "collapsed": false
   },
   "outputs": [
    {
     "name": "stdout",
     "output_type": "stream",
     "text": [
      "create table star (AlphanumericName text,ApparentMagnitude real,Constellation text,EffectiveTemperature real,EscapeVelocity real,Gravity real,SpectralClass text)\n"
     ]
    }
   ],
   "source": [
    "# print how many stars you load - should get 55\n",
    "\n",
    "s=stars(basedir)"
   ]
  },
  {
   "cell_type": "code",
   "execution_count": 61,
   "metadata": {
    "collapsed": false
   },
   "outputs": [
    {
     "data": {
      "text/plain": [
       "[('GJ 1061', 2800.0, 1200000.0),\n",
       " ('GJ 1245 A', 2800.0, 1200000.0),\n",
       " ('Gl 15 B', 3000.0, 1200000.0),\n",
       " ('Gl 473 A', 2800.0, 1200000.0),\n",
       " ('Gl 752 B', 2600.0, 1200000.0),\n",
       " ('Gl 860 B', 3000.0, 1200000.0),\n",
       " ('Gl 866 A', 2600.0, 1200000.0),\n",
       " ('Gl 905', 3000.0, 1200000.0),\n",
       " ('HIP 5643', 2800.0, 1200000.0),\n",
       " ('Luyten 726-8 A', 2800.0, 1200000.0),\n",
       " ('Luyten 726-8 B', 2800.0, 1200000.0),\n",
       " (\"Luyten's Star\", 2600.0, 1200000.0),\n",
       " ('Proxima Centauri', 2600.0, 1200000.0),\n",
       " ('Sirius B', 12000000.0, 15000000.0),\n",
       " ('Wolf 359', 3000.0, 1200000.0)]"
      ]
     },
     "execution_count": 61,
     "metadata": {},
     "output_type": "execute_result"
    }
   ],
   "source": [
    "list(s.query('select AlphanumericName,Gravity,EscapeVelocity from star where Gravity>2400'))"
   ]
  },
  {
   "cell_type": "code",
   "execution_count": 63,
   "metadata": {
    "collapsed": false
   },
   "outputs": [
    {
     "data": {
      "text/plain": [
       "[(802613.3333333334, 2120000.0)]"
      ]
     },
     "execution_count": 63,
     "metadata": {},
     "output_type": "execute_result"
    }
   ],
   "source": [
    "list(s.query('select avg(Gravity), avg(EscapeVelocity) from star where Gravity>2400'))"
   ]
  },
  {
   "cell_type": "markdown",
   "metadata": {},
   "source": [
    "# Problem 2 - interleave\n",
    "- takes two strings and computes every possible interleave\n",
    "- an interleave uses all the characters from each string once, and the order of each string is preserved in the interleaved string\n",
    "- each input string is in alphabetical order, with no duplicated characters\n",
    "- first arg is all lower case, second arg is all upper case\n",
    "- many ways to do this\n",
    "- one straightforward approach is to concat the two strings, and apply itertools.permutations(). this will generate a list containing all the interleaved strings, plus bogus ones. just filter out the bogus strings, and return what's left\n",
    "- in a bogus string the lower case and/or upper case letters are not in the original order"
   ]
  },
  {
   "cell_type": "code",
   "execution_count": 80,
   "metadata": {
    "collapsed": false
   },
   "outputs": [
    {
     "data": {
      "text/plain": [
       "['abcdeX', 'abcdXe', 'abcXde', 'abXcde', 'aXbcde', 'Xabcde']"
      ]
     },
     "execution_count": 80,
     "metadata": {},
     "output_type": "execute_result"
    }
   ],
   "source": [
    "import itertools\n",
    "def interleave(lower,upper):\n",
    "    result = []\n",
    "    CombineString = lower+upper\n",
    "    AllResult = itertools.permutations(CombineString)\n",
    "    for x in AllResult:\n",
    "        testupper = ''.join(y for y in x if y.isupper())\n",
    "        testlower = ''.join(y for y in x if y.islower())\n",
    "        if testlower == lower and testupper == upper:\n",
    "            result.append(''.join(x))\n",
    "    #print (result)\n",
    "    return result\n",
    "interleave('abcde', 'X')"
   ]
  },
  {
   "cell_type": "code",
   "execution_count": 81,
   "metadata": {
    "collapsed": false
   },
   "outputs": [
    {
     "data": {
      "text/plain": [
       "['abXY', 'aXbY', 'aXYb', 'XabY', 'XaYb', 'XYab']"
      ]
     },
     "execution_count": 81,
     "metadata": {},
     "output_type": "execute_result"
    }
   ],
   "source": [
    "# 'baXY', 'YXab', 'baYX' are bogus, because the order of \n",
    "# one or both of the lower and upper case strings has not\n",
    "# been maintained\n",
    "\n",
    "interleave('ab', 'XY')"
   ]
  },
  {
   "cell_type": "code",
   "execution_count": 82,
   "metadata": {
    "collapsed": false
   },
   "outputs": [
    {
     "data": {
      "text/plain": [
       "['abcXYZ',\n",
       " 'abXcYZ',\n",
       " 'abXYcZ',\n",
       " 'abXYZc',\n",
       " 'aXbcYZ',\n",
       " 'aXbYcZ',\n",
       " 'aXbYZc',\n",
       " 'aXYbcZ',\n",
       " 'aXYbZc',\n",
       " 'aXYZbc',\n",
       " 'XabcYZ',\n",
       " 'XabYcZ',\n",
       " 'XabYZc',\n",
       " 'XaYbcZ',\n",
       " 'XaYbZc',\n",
       " 'XaYZbc',\n",
       " 'XYabcZ',\n",
       " 'XYabZc',\n",
       " 'XYaZbc',\n",
       " 'XYZabc']"
      ]
     },
     "execution_count": 82,
     "metadata": {},
     "output_type": "execute_result"
    }
   ],
   "source": [
    "interleave('abc', 'XYZ')"
   ]
  },
  {
   "cell_type": "markdown",
   "metadata": {},
   "source": [
    "# Problem 3 - zipfiles\n",
    "- Extract data directly from a zipfile without unpacking it\n",
    "- use zipfile module [doc](https://docs.python.org/3.5/library/zipfile.html#zipfile.ZipInfo). only need three things\n",
    "    - zipfile.ZipFile()\n",
    "    - zipfile.namelist()\n",
    "    - zipfile.open()\n",
    "- extract info from python's help documentation\n",
    "    - on mac, clicking on the zip link will automatically unpack, which we don't want. instead right click on the link, and do 'Download Linked File as...' instead\n",
    "- zip file to download [zip of python docs in plain text format](https://docs.python.org/3/archives/python-3.5.1-docs-text.zip)"
   ]
  },
  {
   "cell_type": "code",
   "execution_count": 283,
   "metadata": {
    "collapsed": true
   },
   "outputs": [],
   "source": [
    "# set to where ever you place the python docs zip\n",
    "\n",
    "zfile = '/Users/lstead/Downloads/python-3.5.1-docs-text.zip'"
   ]
  },
  {
   "cell_type": "markdown",
   "metadata": {},
   "source": [
    "# write help class\n",
    "- ```__init__()``` method should read in all the help files and save\n",
    "them in the help object. remember to convert to unicode, and remove new lines\n",
    "    - hits() method - checks all file lines for match, and return hit count\n",
    "    - grep() method - print file name, line number, and line of each match\n",
    "    - files() method - return dict of file/# of hits"
   ]
  },
  {
   "cell_type": "code",
   "execution_count": 258,
   "metadata": {
    "collapsed": false
   },
   "outputs": [
    {
     "name": "stdout",
     "output_type": "stream",
     "text": [
      "reading 477 files\n"
     ]
    }
   ],
   "source": [
    "h = help(zfile)"
   ]
  },
  {
   "cell_type": "code",
   "execution_count": 131,
   "metadata": {
    "collapsed": false
   },
   "outputs": [
    {
     "data": {
      "text/plain": [
       "defaultdict(int,\n",
       "            {'python-3.5.1-docs-text/distutils/apiref.txt': 1,\n",
       "             'python-3.5.1-docs-text/library/warnings.txt': 1,\n",
       "             'python-3.5.1-docs-text/reference/import.txt': 1,\n",
       "             'python-3.5.1-docs-text/using/cmdline.txt': 3,\n",
       "             'python-3.5.1-docs-text/whatsnew/3.2.txt': 1,\n",
       "             'python-3.5.1-docs-text/whatsnew/changelog.txt': 1})"
      ]
     },
     "execution_count": 131,
     "metadata": {},
     "output_type": "execute_result"
    }
   ],
   "source": [
    "h.files('zipfiles')"
   ]
  },
  {
   "cell_type": "code",
   "execution_count": 118,
   "metadata": {
    "collapsed": false
   },
   "outputs": [
    {
     "data": {
      "text/plain": [
       "[10, 41, 67, 1103, 78, 8]"
      ]
     },
     "execution_count": 118,
     "metadata": {},
     "output_type": "execute_result"
    }
   ],
   "source": [
    "[h.hits(w) for w in ['rpartition', 'linux','universal', 'mode', 'zipfile', 'zipfiles']]"
   ]
  },
  {
   "cell_type": "code",
   "execution_count": 99,
   "metadata": {
    "collapsed": false
   },
   "outputs": [
    {
     "name": "stdout",
     "output_type": "stream",
     "text": [
      "python-3.5.1-docs-text/whatsnew/2.7.txt:917: * The \"split()\", \"replace()\", \"rindex()\", \"rpartition()\", and\n",
      "python-3.5.1-docs-text/library/stdtypes.txt:1519: str.rpartition(sep)\n",
      "python-3.5.1-docs-text/library/stdtypes.txt:2275: bytes.rpartition(sep)\n",
      "python-3.5.1-docs-text/library/stdtypes.txt:2276: bytearray.rpartition(sep)\n",
      "python-3.5.1-docs-text/whatsnew/2.5.txt:976: \"rpartition(sep)\" methods that simplify a common use case.\n",
      "python-3.5.1-docs-text/whatsnew/2.5.txt:985: \"rpartition(sep)\" also returns a 3-tuple but starts searching from\n",
      "python-3.5.1-docs-text/whatsnew/2.5.txt:996: >>> 'www.python.org'.rpartition('.')\n",
      "python-3.5.1-docs-text/whatsnew/2.5.txt:998: >>> 'www.python.org'.rpartition(':')\n",
      "python-3.5.1-docs-text/whatsnew/3.2.txt:2368: extension = name.rpartition('.')[2]\n",
      "python-3.5.1-docs-text/whatsnew/3.2.txt:2409: also used by \"rfind()\", \"rindex()\", \"rsplit()\" and \"rpartition()\".\n"
     ]
    }
   ],
   "source": [
    "h.grep('rpartition')"
   ]
  },
  {
   "cell_type": "code",
   "execution_count": 103,
   "metadata": {
    "collapsed": false
   },
   "outputs": [
    {
     "name": "stdout",
     "output_type": "stream",
     "text": [
      "python-3.5.1-docs-text/library/warnings.txt:322: used to support displaying source for modules found in zipfiles or\n",
      "python-3.5.1-docs-text/distutils/apiref.txt:794: as tarballs or zipfiles.\n",
      "python-3.5.1-docs-text/using/cmdline.txt:83: and zipfiles that are passed to the interpreter as the script\n",
      "python-3.5.1-docs-text/using/cmdline.txt:430: may refer to zipfiles containing pure Python modules (in either\n",
      "python-3.5.1-docs-text/using/cmdline.txt:432: zipfiles.\n",
      "python-3.5.1-docs-text/whatsnew/changelog.txt:2278: * Issue #20078: Reading malformed zipfiles no longer hangs with 100%\n",
      "python-3.5.1-docs-text/whatsnew/3.2.txt:1531: zipfiles, uncompressed tarfiles, gzipped tarfiles, and bzipped\n",
      "python-3.5.1-docs-text/reference/import.txt:653: libraries) from zipfiles.\n"
     ]
    }
   ],
   "source": [
    "h.grep('zipfiles')"
   ]
  },
  {
   "cell_type": "code",
   "execution_count": 168,
   "metadata": {
    "collapsed": false
   },
   "outputs": [
    {
     "data": {
      "text/plain": [
       "defaultdict(int,\n",
       "            {'python-3.5.1-docs-text/distutils/apiref.txt': 1,\n",
       "             'python-3.5.1-docs-text/library/warnings.txt': 1,\n",
       "             'python-3.5.1-docs-text/reference/import.txt': 1,\n",
       "             'python-3.5.1-docs-text/using/cmdline.txt': 3,\n",
       "             'python-3.5.1-docs-text/whatsnew/3.2.txt': 1,\n",
       "             'python-3.5.1-docs-text/whatsnew/changelog.txt': 1})"
      ]
     },
     "execution_count": 168,
     "metadata": {},
     "output_type": "execute_result"
    }
   ],
   "source": [
    "h.files('zipfiles')"
   ]
  },
  {
   "cell_type": "markdown",
   "metadata": {},
   "source": [
    "# Problem 4 - sumTrianglePath"
   ]
  },
  {
   "cell_type": "markdown",
   "metadata": {},
   "source": [
    "# Write str2lists \n",
    "- converts string form of triangle data into nested lists\n",
    "- homework-6.py has the data in ascii"
   ]
  },
  {
   "cell_type": "code",
   "execution_count": 162,
   "metadata": {
    "collapsed": false
   },
   "outputs": [
    {
     "data": {
      "text/plain": [
       "[[3], [7, 4], [2, 4, 6]]"
      ]
     },
     "execution_count": 162,
     "metadata": {},
     "output_type": "execute_result"
    }
   ],
   "source": [
    "def str2lists(triangle):\n",
    "    level = 1\n",
    "    current = 0\n",
    "    result = []\n",
    "    oneline = []\n",
    "    for x in triangle.split():\n",
    "        if current>=level:\n",
    "            current = 0\n",
    "            level += 1\n",
    "            result.append(oneline)\n",
    "            oneline = []\n",
    "        oneline.append(int(x))\n",
    "        current += 1\n",
    "        \n",
    "    result.append(oneline)\n",
    "    return result\n",
    "\n",
    "s1='''\n",
    "   3\n",
    "  7 4\n",
    " 2 4 6\n",
    "'''\n",
    "x1= str2lists(s1)\n",
    "x1"
   ]
  },
  {
   "cell_type": "code",
   "execution_count": 163,
   "metadata": {
    "collapsed": false
   },
   "outputs": [
    {
     "data": {
      "text/plain": [
       "[[3], [7, 4], [2, 4, 6], [8, 5, 9, 3]]"
      ]
     },
     "execution_count": 163,
     "metadata": {},
     "output_type": "execute_result"
    }
   ],
   "source": [
    "s2='''\n",
    "   3\n",
    "  7 4\n",
    " 2 4 6\n",
    "8 5 9 3\n",
    "'''\n",
    "x2 = str2lists(s2)\n",
    "x2"
   ]
  },
  {
   "cell_type": "code",
   "execution_count": 164,
   "metadata": {
    "collapsed": false
   },
   "outputs": [
    {
     "data": {
      "text/plain": [
       "[[75],\n",
       " [95, 64],\n",
       " [17, 47, 82],\n",
       " [18, 35, 87, 10],\n",
       " [20, 4, 82, 47, 65],\n",
       " [19, 1, 23, 75, 3, 34],\n",
       " [88, 2, 77, 73, 7, 63, 67],\n",
       " [99, 65, 4, 28, 6, 16, 70, 92],\n",
       " [41, 41, 26, 56, 83, 40, 80, 70, 33],\n",
       " [41, 48, 72, 33, 47, 32, 37, 16, 94, 29],\n",
       " [53, 71, 44, 65, 25, 43, 91, 52, 97, 51, 14],\n",
       " [70, 11, 33, 28, 77, 73, 17, 78, 39, 68, 17, 57],\n",
       " [91, 71, 52, 38, 17, 14, 91, 43, 58, 50, 27, 29, 48],\n",
       " [63, 66, 4, 68, 89, 53, 67, 30, 73, 16, 69, 87, 40, 31],\n",
       " [4, 62, 98, 27, 23, 9, 70, 98, 73, 93, 38, 53, 60, 4, 23]]"
      ]
     },
     "execution_count": 164,
     "metadata": {},
     "output_type": "execute_result"
    }
   ],
   "source": [
    "s3 = '''\n",
    "                   75\n",
    "                 95 64\n",
    "                17 47 82\n",
    "              18 35 87 10\n",
    "             20 04 82 47 65\n",
    "            19 01 23 75 03 34\n",
    "          88 02 77 73 07 63 67\n",
    "         99 65 04 28 06 16 70 92\n",
    "        41 41 26 56 83 40 80 70 33\n",
    "       41 48 72 33 47 32 37 16 94 29\n",
    "      53 71 44 65 25 43 91 52 97 51 14\n",
    "     70 11 33 28 77 73 17 78 39 68 17 57\n",
    "    91 71 52 38 17 14 91 43 58 50 27 29 48\n",
    "  63 66 04 68 89 53 67 30 73 16 69 87 40 31\n",
    "04 62 98 27 23 09 70 98 73 93 38 53 60 04 23\n",
    "'''\n",
    "\n",
    "x3 = str2lists(s3)\n",
    "x3"
   ]
  },
  {
   "cell_type": "markdown",
   "metadata": {},
   "source": [
    "# Write sumTrianglePath \n",
    "- takes nested list triangle represention and returns the max path\n",
    "- starting at the top, and moving down to adjacent numbers on the row below, find\n",
    "the path with the maximum sum\n",
    "- hint: this is very simple\n",
    "    - keep merging the last row of the triangle into the 2nd to last row, until you are done\n",
    "    - you may find it convenient to make a copy of the input, use [copy.deepcopy](https://docs.python.org/3.5/library/copy.html)\n",
    "    - don't need recursion\n",
    "- in triangle below, the max sum from top to bottom is 3+7+4+9=23\n",
    "\n",
    "```\n",
    "   3\n",
    "  7 4\n",
    " 2 4 6\n",
    "8 5 9 3\n",
    "```"
   ]
  },
  {
   "cell_type": "code",
   "execution_count": 167,
   "metadata": {
    "collapsed": false
   },
   "outputs": [
    {
     "data": {
      "text/plain": [
       "[14, 23, 1074]"
      ]
     },
     "execution_count": 167,
     "metadata": {},
     "output_type": "execute_result"
    }
   ],
   "source": [
    "import copy\n",
    "def sumTrianglePath(x):\n",
    "    xcp = copy.deepcopy(x)\n",
    "    for i in reversed(range(1,len(x))):\n",
    "        for j in range(len(xcp[i])-1):\n",
    "            xcp[i-1][j] = xcp[i-1][j] + max(xcp[i][j],xcp[i][j+1])\n",
    "    return xcp[0][0]\n",
    "\n",
    "[sumTrianglePath(x) for x in [x1, x2, x3]]"
   ]
  },
  {
   "cell_type": "markdown",
   "metadata": {},
   "source": [
    "# Problem 5 - Conway's game of life\n",
    "- the ```__init__()``` method takes as input an n x n numpy array of 1s and 0s, \n",
    "    representing different cell states. A cell\n",
    "    is considered alive if it is of state 1, and dead otherwise. The neighbors of\n",
    "    a cell are any of the cells that are adjacent to it, 3 at a corner, 5 on \n",
    "    an edge, 8 in the interior. \n",
    "- the ```__next__()``` method operates on the current board, and returns\n",
    "    the next state of the board as determined by the following rules:\n",
    "    - If a cell is alive, and it has exactly two or three neighbors that is also alive,\n",
    "    then in the next turn, it will remain alive.\n",
    "    - If a cell is alive and it has less than two or more than three alive neighbors, it will die.\n",
    "    - If a cell is dead and it has exactly three neighbors which are alive, then next turn it will\n",
    "    come back to life. Otherwise, it remains dead.\n",
    "- use 2d numpy array internally\n",
    "- you must complete the ```__next__()``` and countAliveNeighbors() methods\n",
    "- many interesting patterns have been discovered\n",
    "- [wiki article](https://en.wikipedia.org/wiki/Conway%27s_Game_of_Life)"
   ]
  },
  {
   "cell_type": "code",
   "execution_count": 201,
   "metadata": {
    "collapsed": false
   },
   "outputs": [],
   "source": [
    "import numpy as np\n",
    "\n",
    "class life:\n",
    "    def __init__(self, board):\n",
    "        # current board - will be updated by __next__\n",
    "        self.current = np.array(board)\n",
    "        self.n = len(board)\n",
    "    \n",
    "    def run(self, n):\n",
    "        self.plife()\n",
    "        for j in range(n):\n",
    "            next(self)\n",
    "            self.plife()\n",
    "\n",
    "    def plife(self):\n",
    "        s = []\n",
    "        for row in range(self.n):\n",
    "            for col in range(self.n):\n",
    "                s.append('1' if self.current[row,col] else '0')\n",
    "            s.append('\\n')\n",
    "        print(''.join(s))\n",
    "        \n",
    "    def __next__(self):\n",
    "        outputBoard = self.current.copy()\n",
    "\n",
    "        # compute and store new board in outputBoard\n",
    "        \n",
    "        # Your code here\n",
    "        for i in range(self.n):\n",
    "            for j in range(self.n):\n",
    "                count = self.countAliveNeighbors(i, j)\n",
    "                if count==3:\n",
    "                    outputBoard[i][j] = 1\n",
    "                elif count==2:\n",
    "                    pass\n",
    "                else:\n",
    "                    outputBoard[i][j] = 0\n",
    "        self.current = outputBoard\n",
    "        return outputBoard\n",
    "\n",
    "    def countAliveNeighbors(self, i, j):\n",
    "        \n",
    "        # don't go off the board on edges\n",
    "        count = 0\n",
    "        for x in range(max(i-1,0),min(i+2,self.n)):\n",
    "            for y in range(max(j-1,0),min(j+2,self.n)):\n",
    "                count += self.current[x][y]\n",
    "        # Your code here\n",
    "        count -= self.current[i][j]\n",
    "        return count\n"
   ]
  },
  {
   "cell_type": "code",
   "execution_count": 202,
   "metadata": {
    "collapsed": true
   },
   "outputs": [],
   "source": [
    "# homework-6.py has the data in ascii\n",
    "\n",
    "# stable, doesn't change\n",
    "\n",
    "block = life([[0,0,0,0],\n",
    "             [0,1,1,0],\n",
    "             [0,1,1,0],\n",
    "             [0,0,0,0]])"
   ]
  },
  {
   "cell_type": "code",
   "execution_count": 203,
   "metadata": {
    "collapsed": false
   },
   "outputs": [
    {
     "name": "stdout",
     "output_type": "stream",
     "text": [
      "0000\n",
      "0110\n",
      "0110\n",
      "0000\n",
      "\n",
      "0000\n",
      "0110\n",
      "0110\n",
      "0000\n",
      "\n",
      "0000\n",
      "0110\n",
      "0110\n",
      "0000\n",
      "\n"
     ]
    }
   ],
   "source": [
    "block.run(2)"
   ]
  },
  {
   "cell_type": "code",
   "execution_count": 204,
   "metadata": {
    "collapsed": false
   },
   "outputs": [
    {
     "name": "stdout",
     "output_type": "stream",
     "text": [
      "010\n",
      "010\n",
      "010\n",
      "\n",
      "000\n",
      "111\n",
      "000\n",
      "\n",
      "010\n",
      "010\n",
      "010\n",
      "\n",
      "000\n",
      "111\n",
      "000\n",
      "\n",
      "010\n",
      "010\n",
      "010\n",
      "\n"
     ]
    }
   ],
   "source": [
    "# aternates between two patterns\n",
    "\n",
    "blinker = life([[0, 1, 0 ],\n",
    "          [0, 1, 0],\n",
    "          [0, 1, 0]])\n",
    "\n",
    "blinker.run(4)"
   ]
  },
  {
   "cell_type": "code",
   "execution_count": 205,
   "metadata": {
    "collapsed": false
   },
   "outputs": [
    {
     "name": "stdout",
     "output_type": "stream",
     "text": [
      "000000\n",
      "000000\n",
      "001110\n",
      "011100\n",
      "000000\n",
      "000000\n",
      "\n",
      "000000\n",
      "000100\n",
      "010010\n",
      "010010\n",
      "001000\n",
      "000000\n",
      "\n",
      "000000\n",
      "000000\n",
      "001110\n",
      "011100\n",
      "000000\n",
      "000000\n",
      "\n"
     ]
    }
   ],
   "source": [
    "toad = life(np.array([[0, 0, 0, 0, 0, 0],\n",
    "       [0, 0, 0, 0, 0, 0],\n",
    "       [0, 0, 1, 1, 1, 0],\n",
    "       [0, 1, 1, 1, 0, 0],\n",
    "       [0, 0, 0, 0, 0, 0],\n",
    "       [0, 0, 0, 0, 0, 0]]))\n",
    "\n",
    "toad.run(2)"
   ]
  },
  {
   "cell_type": "code",
   "execution_count": 206,
   "metadata": {
    "collapsed": false
   },
   "outputs": [
    {
     "name": "stdout",
     "output_type": "stream",
     "text": [
      "11101\n",
      "10010\n",
      "01001\n",
      "11010\n",
      "10101\n",
      "\n",
      "11110\n",
      "10011\n",
      "01011\n",
      "10011\n",
      "10110\n",
      "\n",
      "11111\n",
      "10000\n",
      "11000\n",
      "10000\n",
      "01111\n",
      "\n",
      "11110\n",
      "00010\n",
      "11000\n",
      "10010\n",
      "01110\n",
      "\n",
      "01110\n",
      "00010\n",
      "11100\n",
      "10010\n",
      "01110\n",
      "\n",
      "00110\n",
      "10010\n",
      "11110\n",
      "10010\n",
      "01110\n",
      "\n",
      "00110\n",
      "10001\n",
      "10011\n",
      "10001\n",
      "01110\n",
      "\n",
      "00010\n",
      "01101\n",
      "11011\n",
      "10001\n",
      "01110\n",
      "\n",
      "00110\n",
      "11001\n",
      "10001\n",
      "10001\n",
      "01110\n",
      "\n",
      "01110\n",
      "11101\n",
      "10011\n",
      "10101\n",
      "01110\n",
      "\n",
      "10010\n",
      "10001\n",
      "10001\n",
      "10001\n",
      "01110\n",
      "\n",
      "00000\n",
      "11011\n",
      "11011\n",
      "10101\n",
      "01110\n",
      "\n",
      "00000\n",
      "11011\n",
      "00000\n",
      "10001\n",
      "01110\n",
      "\n",
      "00000\n",
      "00000\n",
      "11011\n",
      "01110\n",
      "01110\n",
      "\n",
      "00000\n",
      "00000\n",
      "11011\n",
      "00000\n",
      "01010\n",
      "\n",
      "00000\n",
      "00000\n",
      "00000\n",
      "11011\n",
      "00000\n",
      "\n",
      "00000\n",
      "00000\n",
      "00000\n",
      "00000\n",
      "00000\n",
      "\n"
     ]
    }
   ],
   "source": [
    "everybodydies = life(np.array([\n",
    "            [1,1,1,0,1],\n",
    "            [1,0,0,1,0],\n",
    "            [0,1,0,0,1],\n",
    "            [1,1,0,1,0],\n",
    "            [1,0,1,0,1],\n",
    "            ]))\n",
    "everybodydies.run(16)"
   ]
  },
  {
   "cell_type": "code",
   "execution_count": 207,
   "metadata": {
    "collapsed": false
   },
   "outputs": [
    {
     "name": "stdout",
     "output_type": "stream",
     "text": [
      "000000000000\n",
      "000000000000\n",
      "000000000000\n",
      "000111000000\n",
      "000111000000\n",
      "000111000000\n",
      "000000111000\n",
      "000000111000\n",
      "000000111000\n",
      "000000000000\n",
      "000000000000\n",
      "000000000000\n",
      "\n",
      "000000000000\n",
      "000000000000\n",
      "000010000000\n",
      "000101000000\n",
      "001000100000\n",
      "000100010000\n",
      "000010001000\n",
      "000001000100\n",
      "000000101000\n",
      "000000010000\n",
      "000000000000\n",
      "000000000000\n",
      "\n",
      "000000000000\n",
      "000000000000\n",
      "000010000000\n",
      "000111000000\n",
      "001110100000\n",
      "000100010000\n",
      "000010001000\n",
      "000001011100\n",
      "000000111000\n",
      "000000010000\n",
      "000000000000\n",
      "000000000000\n",
      "\n",
      "000000000000\n",
      "000000000000\n",
      "000111000000\n",
      "001000000000\n",
      "001000100000\n",
      "001001010000\n",
      "000010100100\n",
      "000001000100\n",
      "000000000100\n",
      "000000111000\n",
      "000000000000\n",
      "000000000000\n",
      "\n",
      "000000000000\n",
      "000010000000\n",
      "000110000000\n",
      "001011000000\n",
      "011100100000\n",
      "000101010000\n",
      "000010101000\n",
      "000001001110\n",
      "000000110100\n",
      "000000011000\n",
      "000000010000\n",
      "000000000000\n",
      "\n",
      "000000000000\n",
      "000110000000\n",
      "000000000000\n",
      "010001000000\n",
      "010000100000\n",
      "000101010000\n",
      "000010101000\n",
      "000001000010\n",
      "000000100010\n",
      "000000000000\n",
      "000000011000\n",
      "000000000000\n",
      "\n",
      "000000000000\n",
      "000000000000\n",
      "000010000000\n",
      "000000000000\n",
      "001011100000\n",
      "000011010000\n",
      "000010110000\n",
      "000001110100\n",
      "000000000000\n",
      "000000010000\n",
      "000000000000\n",
      "000000000000\n",
      "\n",
      "000000000000\n",
      "000000000000\n",
      "000000000000\n",
      "000110000000\n",
      "000110100000\n",
      "000000010000\n",
      "000010000000\n",
      "000001011000\n",
      "000000011000\n",
      "000000000000\n",
      "000000000000\n",
      "000000000000\n",
      "\n",
      "000000000000\n",
      "000000000000\n",
      "000000000000\n",
      "000111000000\n",
      "000111000000\n",
      "000111000000\n",
      "000000111000\n",
      "000000111000\n",
      "000000111000\n",
      "000000000000\n",
      "000000000000\n",
      "000000000000\n",
      "\n"
     ]
    }
   ],
   "source": [
    "fig8 = life(np.array([[0, 0, 0, 0, 0, 0, 0, 0, 0, 0, 0, 0],\n",
    "       [0, 0, 0, 0, 0, 0, 0, 0, 0, 0, 0, 0],\n",
    "       [0, 0, 0, 0, 0, 0, 0, 0, 0, 0, 0, 0],\n",
    "       [0, 0, 0, 1, 1, 1, 0, 0, 0, 0, 0, 0],\n",
    "       [0, 0, 0, 1, 1, 1, 0, 0, 0, 0, 0, 0],\n",
    "       [0, 0, 0, 1, 1, 1, 0, 0, 0, 0, 0, 0],\n",
    "       [0, 0, 0, 0, 0, 0, 1, 1, 1, 0, 0, 0],\n",
    "       [0, 0, 0, 0, 0, 0, 1, 1, 1, 0, 0, 0],\n",
    "       [0, 0, 0, 0, 0, 0, 1, 1, 1, 0, 0, 0],\n",
    "       [0, 0, 0, 0, 0, 0, 0, 0, 0, 0, 0, 0],\n",
    "       [0, 0, 0, 0, 0, 0, 0, 0, 0, 0, 0, 0],\n",
    "       [0, 0, 0, 0, 0, 0, 0, 0, 0, 0, 0, 0]]))\n",
    "\n",
    "fig8.run(8)"
   ]
  },
  {
   "cell_type": "code",
   "execution_count": null,
   "metadata": {
    "collapsed": true
   },
   "outputs": [],
   "source": []
  }
 ],
 "metadata": {
  "kernelspec": {
   "display_name": "Python 3",
   "language": "python",
   "name": "python3"
  },
  "language_info": {
   "codemirror_mode": {
    "name": "ipython",
    "version": 3
   },
   "file_extension": ".py",
   "mimetype": "text/x-python",
   "name": "python",
   "nbconvert_exporter": "python",
   "pygments_lexer": "ipython3",
   "version": "3.4.4"
  }
 },
 "nbformat": 4,
 "nbformat_minor": 0
}
