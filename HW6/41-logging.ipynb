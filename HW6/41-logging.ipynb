{
 "cells": [
  {
   "cell_type": "markdown",
   "metadata": {},
   "source": [
    "# Logging \n",
    "- Often two types of logging are performed\n",
    "  - during development, may want verbose logging to help debug system\n",
    "  - during production, want to log \"important\" events, like web hits, major failures, services performed, accounting data\n",
    "- want one system to handle both needs\n",
    "- can send logger output to files and streams\n",
    "- Python logging similiar to Java log4j"
   ]
  },
  {
   "cell_type": "code",
   "execution_count": 1,
   "metadata": {
    "collapsed": false
   },
   "outputs": [
    {
     "data": {
      "text/plain": [
       "True"
      ]
     },
     "execution_count": 1,
     "metadata": {},
     "output_type": "execute_result"
    }
   ],
   "source": [
    "import logging\n",
    "\n",
    "# Can instantiate any number of named loggers, and set their log level\n",
    "log = logging.getLogger('test')\n",
    "\n",
    "def testlog():\n",
    "    log.critical('critical')\n",
    "    log.error('error')\n",
    "    log.warning('warning')\n",
    "    log.info('info')\n",
    "    log.debug('debug')\n",
    "\n",
    "# the same name will get the same logger\n",
    "log2 = logging.getLogger('test')\n",
    "log is log2"
   ]
  },
  {
   "cell_type": "code",
   "execution_count": 2,
   "metadata": {
    "collapsed": false
   },
   "outputs": [
    {
     "name": "stderr",
     "output_type": "stream",
     "text": [
      "CRITICAL:test:critical\n"
     ]
    }
   ],
   "source": [
    "# only critical events will be logged\n",
    "log.setLevel(level = logging.CRITICAL)\n",
    "testlog()"
   ]
  },
  {
   "cell_type": "code",
   "execution_count": 3,
   "metadata": {
    "collapsed": false
   },
   "outputs": [
    {
     "name": "stderr",
     "output_type": "stream",
     "text": [
      "CRITICAL:test:critical\n",
      "ERROR:test:error\n",
      "WARNING:test:warning\n"
     ]
    }
   ],
   "source": [
    "# warning events and everything above \n",
    "log.setLevel(level = logging.WARNING)\n",
    "testlog()"
   ]
  },
  {
   "cell_type": "code",
   "execution_count": 4,
   "metadata": {
    "collapsed": false
   },
   "outputs": [
    {
     "name": "stderr",
     "output_type": "stream",
     "text": [
      "CRITICAL:test:critical\n",
      "ERROR:test:error\n",
      "WARNING:test:warning\n",
      "INFO:test:info\n",
      "DEBUG:test:debug\n"
     ]
    }
   ],
   "source": [
    "# everything will be logged\n",
    "log.setLevel(level = logging.DEBUG)\n",
    "testlog()"
   ]
  },
  {
   "cell_type": "markdown",
   "metadata": {},
   "source": [
    "# Notice the args to debug, info, etc\n",
    "\n",
    "``Logger.debug(msg, *args, **kwargs)``"
   ]
  },
  {
   "cell_type": "code",
   "execution_count": null,
   "metadata": {
    "collapsed": false
   },
   "outputs": [],
   "source": [
    "# What is the critical difference between these two calls??\n",
    "\n",
    "log.debug('debugging system #%d version #%d status=%s' % (34, 104, 'alpha'))\n",
    "log.debug('debugging system #%d version #%d status=%s', 34, 104, 'alpha')"
   ]
  },
  {
   "cell_type": "code",
   "execution_count": null,
   "metadata": {
    "collapsed": true
   },
   "outputs": [],
   "source": [
    "# first statement generates a ton of garbage"
   ]
  },
  {
   "cell_type": "code",
   "execution_count": null,
   "metadata": {
    "collapsed": false
   },
   "outputs": [],
   "source": [
    "# can get alot of stack info\n",
    "\n",
    "def foo():\n",
    "    print(log.findCaller(stack_info=True))\n",
    "\n",
    "foo()"
   ]
  },
  {
   "cell_type": "code",
   "execution_count": null,
   "metadata": {
    "collapsed": true
   },
   "outputs": [],
   "source": []
  }
 ],
 "metadata": {
  "kernelspec": {
   "display_name": "Python 3",
   "language": "python",
   "name": "python3"
  },
  "language_info": {
   "codemirror_mode": {
    "name": "ipython",
    "version": 3
   },
   "file_extension": ".py",
   "mimetype": "text/x-python",
   "name": "python",
   "nbconvert_exporter": "python",
   "pygments_lexer": "ipython3",
   "version": "3.5.1"
  }
 },
 "nbformat": 4,
 "nbformat_minor": 0
}
