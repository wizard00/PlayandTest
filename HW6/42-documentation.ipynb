{
 "cells": [
  {
   "cell_type": "markdown",
   "metadata": {},
   "source": [
    "# HTML Documentation of your code\n",
    "- two main tools"
   ]
  },
  {
   "cell_type": "markdown",
   "metadata": {},
   "source": [
    "### pydoc\n",
    "- reads file.py and creates file.html \n",
    "- not very attractive\n",
    "\n",
    "pydoc -w file"
   ]
  },
  {
   "cell_type": "markdown",
   "metadata": {},
   "source": [
    "### epydoc\n",
    "- reads file.py ...\n",
    "- creates html/file.html ...\n",
    "- more attractive, similar to javadoc\n",
    "\n",
    "epydoc --html  file.py"
   ]
  }
 ],
 "metadata": {
  "kernelspec": {
   "display_name": "Python 3",
   "language": "python",
   "name": "python3"
  },
  "language_info": {
   "codemirror_mode": {
    "name": "ipython",
    "version": 3
   },
   "file_extension": ".py",
   "mimetype": "text/x-python",
   "name": "python",
   "nbconvert_exporter": "python",
   "pygments_lexer": "ipython3",
   "version": "3.5.1"
  }
 },
 "nbformat": 4,
 "nbformat_minor": 0
}
