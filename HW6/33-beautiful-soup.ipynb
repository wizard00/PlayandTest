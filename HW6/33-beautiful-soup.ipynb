{
 "cells": [
  {
   "cell_type": "markdown",
   "metadata": {},
   "source": [
    "# BeautifulSoup\n",
    "- great 'screen scraping' package\n",
    "- tons of interesting data on webpages\n",
    "- makes it easy to extract information from complex web pages and XML documents\n",
    "- can figure out what to do by playing interactively\n",
    "- [doc](http://www.crummy.com/software/BeautifulSoup/)"
   ]
  },
  {
   "cell_type": "code",
   "execution_count": 1,
   "metadata": {
    "collapsed": false
   },
   "outputs": [
    {
     "data": {
      "text/plain": [
       "[1150,\n",
       " 1150,\n",
       " defaultdict(int,\n",
       "             {'All': 4,\n",
       "              'BERNARDO': 23,\n",
       "              'CORNELIUS': 1,\n",
       "              'Captain': 7,\n",
       "              'Danes': 3,\n",
       "              'FRANCISCO': 8,\n",
       "              'First Ambassador': 1,\n",
       "              'First Clown': 33,\n",
       "              'First Player': 8,\n",
       "              'First Priest': 2,\n",
       "              'First Sailor': 2,\n",
       "              'GUILDENSTERN': 33,\n",
       "              'Gentleman': 3,\n",
       "              'Ghost': 14,\n",
       "              'HAMLET': 359,\n",
       "              'HORATIO': 112,\n",
       "              'KING CLAUDIUS': 102,\n",
       "              'LAERTES': 62,\n",
       "              'LORD POLONIUS': 86,\n",
       "              'LUCIANUS': 1,\n",
       "              'Lord': 3,\n",
       "              'MARCELLUS': 36,\n",
       "              'Messenger': 2,\n",
       "              'OPHELIA': 58,\n",
       "              'OSRIC': 25,\n",
       "              'PRINCE FORTINBRAS': 6,\n",
       "              'Player King': 4,\n",
       "              'Player Queen': 5,\n",
       "              'Prologue': 1,\n",
       "              'QUEEN GERTRUDE': 69,\n",
       "              'REYNALDO': 13,\n",
       "              'ROSENCRANTZ': 49,\n",
       "              'Second Clown': 12,\n",
       "              'Servant': 1,\n",
       "              'VOLTIMAND': 2})]"
      ]
     },
     "execution_count": 1,
     "metadata": {},
     "output_type": "execute_result"
    }
   ],
   "source": [
    "# another way to do hamlet\n",
    "\n",
    "import urllib.request\n",
    "import collections\n",
    "import bs4\n",
    "\n",
    "url='https://courseworks.columbia.edu/access/content/group/'\n",
    "url+='COMSW3101_002_2015_3/data/hamlet.html'\n",
    "\n",
    "def hamlet(url):\n",
    "    page = urllib.request.urlopen(url)\n",
    "    sp = bs4.BeautifulSoup(page, 'html5lib', from_encoding='utf-8')\n",
    "    lam = lambda t : t.name == 'a' and ('name' in t.attrs ) and t['name'].startswith('speech')\n",
    "    al = sp.findAll(lam)\n",
    "    cd=collections.defaultdict(int)\n",
    "    lcnt=0\n",
    "    for a in al:\n",
    "        name = a.string\n",
    "        cd[name] += 1\n",
    "    speeches = sum(cd.values())\n",
    "    # no line count\n",
    "    return([len(al), speeches, cd])\n",
    "  \n",
    "hamlet(url)"
   ]
  },
  {
   "cell_type": "markdown",
   "metadata": {},
   "source": [
    "# Want to find all the headlines on the front page of the [New York Times](http://nyt.com)\n",
    "- html structure is quite complex\n",
    "- would be very difficult to do with string.find() or regular expressions "
   ]
  },
  {
   "cell_type": "code",
   "execution_count": 2,
   "metadata": {
    "collapsed": false
   },
   "outputs": [],
   "source": [
    "# 'lxml' is a XML parser\n",
    "# must tell soup what encoding to use\n",
    "\n",
    "from bs4 import BeautifulSoup\n",
    "\n",
    "nf2 = urllib.request.urlopen('http://nyt.com')\n",
    "sp = BeautifulSoup(nf2, 'lxml', from_encoding='utf-8')"
   ]
  },
  {
   "cell_type": "code",
   "execution_count": 3,
   "metadata": {
    "collapsed": false
   },
   "outputs": [
    {
     "data": {
      "text/plain": [
       "[<h2 class=\"story-heading\"><a href=\"http://www.nytimes.com/2016/04/30/us/politics/indiana-republican-transgender-rights-bathroom.html\">Cruz Seizes on Transgender Issue in Attacks on Trump</a></h2>,\n",
       " <h2 class=\"story-heading\"><a href=\"http://www.nytimes.com/2016/04/29/us/politics/out-of-office-ex-speaker-john-boehner-gleefully-releases-mute-button.html\">Boehner, Unbound and Speaking Freely</a></h2>,\n",
       " <h2 class=\"story-heading\"><i class=\"icon\"></i><a href=\"http://www.nytimes.com/2016/04/30/us/politics/obama-puts-his-weight-behind-smart-gun-technology.html\">Obama Puts Weight Behind Smart Gun Technology</a> <time class=\"timestamp\" data-eastern-timestamp=\"1:19 PM\" data-utc-timestamp=\"1461950370\" datetime=\"2016-04-29\">1:19 PM ET</time></h2>,\n",
       " <h2 class=\"story-heading\"><i class=\"icon\"></i><a href=\"http://www.nytimes.com/2016/04/30/us/politics/justices-leave-texas-voter-id-law-intact-with-a-warning.html\">Justices Leave Texas Voter ID Law Intact</a> <time class=\"timestamp\" data-eastern-timestamp=\"12:45 PM\" data-utc-timestamp=\"1461948339\" datetime=\"2016-04-29\">12:45 PM ET</time></h2>,\n",
       " <h2 class=\"story-heading\"><i class=\"icon\"></i><a href=\"http://www.nytimes.com/2016/04/30/world/asia/north-korea-kim-dong-chul-sentence.html\">North Korea Sentences American to 10 Years for Spying</a> </h2>,\n",
       " <h2 class=\"story-heading\"><a href=\"http://www.nytimes.com/2016/04/30/books/walt-whitman-promoted-a-paleo-diet-who-knew.html\">Buried in Microfilm, Whitman’s Health Tips</a></h2>,\n",
       " <h2 class=\"story-heading\"><a href=\"http://www.nytimes.com/2016/04/30/us/small-colleges-losing-market-share-struggle-to-keep-doors-open.html\">At Small Colleges, Harsh Lessons About Cash Flow</a></h2>,\n",
       " <h2 class=\"story-heading\"><a href=\"http://www.nytimes.com/2016/04/29/us/koch-brothers-antonin-scalia-george-mason-law-school.html\">University in Turmoil Over Scalia Tribute and Koch Role</a></h2>,\n",
       " <h2 class=\"story-heading\"><a href=\"http://www.nytimes.com/interactive/2016/04/29/upshot/money-race-and-success-how-your-school-district-compares.html\">Money, Race and Success: How Your School District Compares</a></h2>,\n",
       " <h2 class=\"story-heading\"><a href=\"http://www.nytimes.com/2016/04/30/world/middleeast/surge-in-palestinian-youths-in-prison-tests-israels-justice-system.html\">Surge in Palestinian Youths in Prison Tests Israel</a></h2>]"
      ]
     },
     "execution_count": 3,
     "metadata": {},
     "output_type": "execute_result"
    }
   ],
   "source": [
    "# headlines seem to be contained in 'h2' elements\n",
    "\n",
    "sp.findAll('h2')[10:20]"
   ]
  },
  {
   "cell_type": "code",
   "execution_count": 4,
   "metadata": {
    "collapsed": false
   },
   "outputs": [
    {
     "data": {
      "text/plain": [
       "<h2 class=\"branding\"><a href=\"http://www.nytimes.com/\">\n",
       "<svg aria-label=\"The New York Times\" class=\"nyt-logo\" height=\"64\" role=\"img\" width=\"379\">\n",
       "<image alt=\"The New York Times\" border=\"0\" height=\"64\" src=\"https://a1.nyt.com/assets/homepage/20160427-131901/images/foundation/logos/nyt-logo-379x64.png\" width=\"379\" xlink:href=\"https://a1.nyt.com/assets/homepage/20160427-131901/images/foundation/logos/nyt-logo-379x64.svg\"></image>\n",
       "</svg>\n",
       "</a></h2>"
      ]
     },
     "execution_count": 4,
     "metadata": {},
     "output_type": "execute_result"
    }
   ],
   "source": [
    "# first 'h2' element\n",
    "\n",
    "h2 = sp.h2\n",
    "h2"
   ]
  },
  {
   "cell_type": "code",
   "execution_count": 5,
   "metadata": {
    "collapsed": false
   },
   "outputs": [
    {
     "data": {
      "text/plain": [
       "<a href=\"http://www.nytimes.com/\">\n",
       "<svg aria-label=\"The New York Times\" class=\"nyt-logo\" height=\"64\" role=\"img\" width=\"379\">\n",
       "<image alt=\"The New York Times\" border=\"0\" height=\"64\" src=\"https://a1.nyt.com/assets/homepage/20160427-131901/images/foundation/logos/nyt-logo-379x64.png\" width=\"379\" xlink:href=\"https://a1.nyt.com/assets/homepage/20160427-131901/images/foundation/logos/nyt-logo-379x64.svg\"></image>\n",
       "</svg>\n",
       "</a>"
      ]
     },
     "execution_count": 5,
     "metadata": {},
     "output_type": "execute_result"
    }
   ],
   "source": [
    "# can pull 'a' element out of 'h2'\n",
    "# this 'a' element is a picture\n",
    "\n",
    "a=h2.find('a')\n",
    "a"
   ]
  },
  {
   "cell_type": "code",
   "execution_count": 6,
   "metadata": {
    "collapsed": false
   },
   "outputs": [
    {
     "data": {
      "text/plain": [
       "[<a href=\"http://www.nytimes.com/\">\n",
       " <svg aria-label=\"The New York Times\" class=\"nyt-logo\" height=\"64\" role=\"img\" width=\"379\">\n",
       " <image alt=\"The New York Times\" border=\"0\" height=\"64\" src=\"https://a1.nyt.com/assets/homepage/20160427-131901/images/foundation/logos/nyt-logo-379x64.png\" width=\"379\" xlink:href=\"https://a1.nyt.com/assets/homepage/20160427-131901/images/foundation/logos/nyt-logo-379x64.svg\"></image>\n",
       " </svg>\n",
       " </a>,\n",
       " None,\n",
       " None,\n",
       " None,\n",
       " None,\n",
       " None,\n",
       " <a href=\"http://www.nytimes.com/2016/04/30/world/asia/afghanistan-doctors-without-borders-hospital-strike.html\">Punishing 16, Pentagon Says Mistakes Led to Hospital Attack</a>,\n",
       " <a href=\"http://www.nytimes.com/interactive/2015/11/25/world/asia/errors-us-airstrike-afghan-kunduz-msf-hospital.html\">A Step-by-Step Look at the Errors Behind the Strike</a>,\n",
       " <a href=\"http://www.nytimes.com/2016/04/29/us/politics/hillary-clinton-donald-trump-women.html\">Trump and Clinton Gear Up for a Race Defined by Gender</a>,\n",
       " <a href=\"http://www.nytimes.com/2016/04/30/us/donald-trump-rally-protest-costa-mesa.html\">Protest Turns Violent at Trump Rally in Southern California</a>,\n",
       " <a href=\"http://www.nytimes.com/2016/04/30/us/politics/indiana-republican-transgender-rights-bathroom.html\">Cruz Seizes on Transgender Issue in Attacks on Trump</a>,\n",
       " <a href=\"http://www.nytimes.com/2016/04/29/us/politics/out-of-office-ex-speaker-john-boehner-gleefully-releases-mute-button.html\">Boehner, Unbound and Speaking Freely</a>,\n",
       " <a href=\"http://www.nytimes.com/2016/04/30/us/politics/obama-puts-his-weight-behind-smart-gun-technology.html\">Obama Puts Weight Behind Smart Gun Technology</a>,\n",
       " <a href=\"http://www.nytimes.com/2016/04/30/us/politics/justices-leave-texas-voter-id-law-intact-with-a-warning.html\">Justices Leave Texas Voter ID Law Intact</a>,\n",
       " <a href=\"http://www.nytimes.com/2016/04/30/world/asia/north-korea-kim-dong-chul-sentence.html\">North Korea Sentences American to 10 Years for Spying</a>,\n",
       " <a href=\"http://www.nytimes.com/2016/04/30/books/walt-whitman-promoted-a-paleo-diet-who-knew.html\">Buried in Microfilm, Whitman’s Health Tips</a>,\n",
       " <a href=\"http://www.nytimes.com/2016/04/30/us/small-colleges-losing-market-share-struggle-to-keep-doors-open.html\">At Small Colleges, Harsh Lessons About Cash Flow</a>,\n",
       " <a href=\"http://www.nytimes.com/2016/04/29/us/koch-brothers-antonin-scalia-george-mason-law-school.html\">University in Turmoil Over Scalia Tribute and Koch Role</a>,\n",
       " <a href=\"http://www.nytimes.com/interactive/2016/04/29/upshot/money-race-and-success-how-your-school-district-compares.html\">Money, Race and Success: How Your School District Compares</a>,\n",
       " <a href=\"http://www.nytimes.com/2016/04/30/world/middleeast/surge-in-palestinian-youths-in-prison-tests-israels-justice-system.html\">Surge in Palestinian Youths in Prison Tests Israel</a>]"
      ]
     },
     "execution_count": 6,
     "metadata": {},
     "output_type": "execute_result"
    }
   ],
   "source": [
    "# try pulling the 'a' out of all 'h2' elements\n",
    "# looks like we get mostly headlines\n",
    "\n",
    "al=[h2.find('a') for h2 in sp.findAll(\"h2\")]\n",
    "al[:20]"
   ]
  },
  {
   "cell_type": "code",
   "execution_count": 7,
   "metadata": {
    "collapsed": false
   },
   "outputs": [
    {
     "data": {
      "text/plain": [
       "[['\\n',\n",
       "  <svg aria-label=\"The New York Times\" class=\"nyt-logo\" height=\"64\" role=\"img\" width=\"379\">\n",
       "  <image alt=\"The New York Times\" border=\"0\" height=\"64\" src=\"https://a1.nyt.com/assets/homepage/20160427-131901/images/foundation/logos/nyt-logo-379x64.png\" width=\"379\" xlink:href=\"https://a1.nyt.com/assets/homepage/20160427-131901/images/foundation/logos/nyt-logo-379x64.svg\"></image>\n",
       "  </svg>,\n",
       "  '\\n'],\n",
       " ['Punishing 16, Pentagon Says Mistakes Led to Hospital Attack'],\n",
       " ['A Step-by-Step Look at the Errors Behind the Strike'],\n",
       " ['Trump and Clinton Gear Up for a Race Defined by Gender'],\n",
       " ['Protest Turns Violent at Trump Rally in Southern California'],\n",
       " ['Cruz Seizes on Transgender Issue in Attacks on Trump'],\n",
       " ['Boehner, Unbound and Speaking Freely'],\n",
       " ['Obama Puts Weight Behind Smart Gun Technology'],\n",
       " ['Justices Leave Texas Voter ID Law Intact'],\n",
       " ['North Korea Sentences American to 10 Years for Spying'],\n",
       " ['Buried in Microfilm, Whitman’s Health Tips'],\n",
       " ['At Small Colleges, Harsh Lessons About Cash Flow'],\n",
       " ['University in Turmoil Over Scalia Tribute and Koch Role'],\n",
       " ['Money, Race and Success: How Your School District Compares'],\n",
       " ['Surge in Palestinian Youths in Prison Tests Israel'],\n",
       " ['Notes From Aleppo: Glimpses of War-Ravaged Syria'],\n",
       " ['Study Finds Fewer Homeless on Streets of New York'],\n",
       " ['The Perks of Monotasking, a.k.a. ‘Paying Attention’'],\n",
       " ['Review: In Key & Peele’s ‘Keanu,’ Guns and Kittens'],\n",
       " ['The Day Prince’s Guitar Wept the Loudest'],\n",
       " ['The Opinion Pages'],\n",
       " ['There’s No Such Thing as a Free Rolex'],\n",
       " ['Editorial: The Racist Roots of a Way to Sell Homes'],\n",
       " ['Brooks: If Not Trump, What?'],\n",
       " ['Krugman: Wrath of the Conned'],\n",
       " ['Egan: Working-Class Fraud'],\n",
       " ['Op-Ed: What It’s Like to Write Jokes for President Obama'],\n",
       " ['Taking Note: The Cruz Campaign and Execution'],\n",
       " ['Sunday Review'],\n",
       " ['The Upside to Overt Racism']]"
      ]
     },
     "execution_count": 7,
     "metadata": {},
     "output_type": "execute_result"
    }
   ],
   "source": [
    "# pull out the 'a' link text \n",
    "\n",
    "[a.contents for a in al if a != None][:30]"
   ]
  },
  {
   "cell_type": "code",
   "execution_count": 8,
   "metadata": {
    "collapsed": false
   },
   "outputs": [
    {
     "data": {
      "text/plain": [
       "[['Punishing 16, Pentagon Says Mistakes Led to Hospital Attack'],\n",
       " ['A Step-by-Step Look at the Errors Behind the Strike'],\n",
       " ['Trump and Clinton Gear Up for a Race Defined by Gender'],\n",
       " ['Protest Turns Violent at Trump Rally in Southern California'],\n",
       " ['Cruz Seizes on Transgender Issue in Attacks on Trump'],\n",
       " ['Boehner, Unbound and Speaking Freely'],\n",
       " ['Obama Puts Weight Behind Smart Gun Technology'],\n",
       " ['Justices Leave Texas Voter ID Law Intact'],\n",
       " ['North Korea Sentences American to 10 Years for Spying'],\n",
       " ['Buried in Microfilm, Whitman’s Health Tips'],\n",
       " ['At Small Colleges, Harsh Lessons About Cash Flow'],\n",
       " ['University in Turmoil Over Scalia Tribute and Koch Role'],\n",
       " ['Money, Race and Success: How Your School District Compares'],\n",
       " ['Surge in Palestinian Youths in Prison Tests Israel'],\n",
       " ['Notes From Aleppo: Glimpses of War-Ravaged Syria'],\n",
       " ['Study Finds Fewer Homeless on Streets of New York'],\n",
       " ['The Perks of Monotasking, a.k.a. ‘Paying Attention’'],\n",
       " ['Review: In Key & Peele’s ‘Keanu,’ Guns and Kittens'],\n",
       " ['The Day Prince’s Guitar Wept the Loudest'],\n",
       " ['The Opinion Pages'],\n",
       " ['There’s No Such Thing as a Free Rolex'],\n",
       " ['Editorial: The Racist Roots of a Way to Sell Homes'],\n",
       " ['Brooks: If Not Trump, What?'],\n",
       " ['Krugman: Wrath of the Conned'],\n",
       " ['Egan: Working-Class Fraud'],\n",
       " ['Op-Ed: What It’s Like to Write Jokes for President Obama'],\n",
       " ['Taking Note: The Cruz Campaign and Execution'],\n",
       " ['Sunday Review'],\n",
       " ['The Upside to Overt Racism'],\n",
       " ['Better Aging Through Practice, Practice, Practice']]"
      ]
     },
     "execution_count": 8,
     "metadata": {},
     "output_type": "execute_result"
    }
   ],
   "source": [
    "# filter out images\n",
    "\n",
    "[a.contents for a in al if a != None and len(a)==1][:30]"
   ]
  },
  {
   "cell_type": "code",
   "execution_count": null,
   "metadata": {
    "collapsed": true
   },
   "outputs": [],
   "source": []
  }
 ],
 "metadata": {
  "kernelspec": {
   "display_name": "Python 3",
   "language": "python",
   "name": "python3"
  },
  "language_info": {
   "codemirror_mode": {
    "name": "ipython",
    "version": 3
   },
   "file_extension": ".py",
   "mimetype": "text/x-python",
   "name": "python",
   "nbconvert_exporter": "python",
   "pygments_lexer": "ipython3",
   "version": "3.5.1"
  }
 },
 "nbformat": 4,
 "nbformat_minor": 0
}
