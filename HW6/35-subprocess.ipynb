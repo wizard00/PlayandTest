{
 "cells": [
  {
   "cell_type": "markdown",
   "metadata": {},
   "source": [
    "# subprocess module\n",
    "- run external programs \n",
    "- also known as an 'exec'\n",
    "- way to run programs in the 'external world'\n",
    "- often quite useful\n",
    "- documentation somewhat complex, but easy to use"
   ]
  },
  {
   "cell_type": "code",
   "execution_count": 1,
   "metadata": {
    "collapsed": false
   },
   "outputs": [],
   "source": [
    "# delete file if it's there\n",
    "\n",
    "import os\n",
    "path = '/tmp/subp'\n",
    "os.remove(path)"
   ]
  },
  {
   "cell_type": "code",
   "execution_count": 2,
   "metadata": {
    "collapsed": false
   },
   "outputs": [
    {
     "data": {
      "text/plain": [
       "0"
      ]
     },
     "execution_count": 2,
     "metadata": {},
     "output_type": "execute_result"
    }
   ],
   "source": [
    "# simplest form - just run a command\n",
    "# touch will create an empty file if none exits,\n",
    "# or change the last access date of an existing file\n",
    "# exit code (0 is happy) is returned\n",
    "\n",
    "import subprocess\n",
    "\n",
    "subprocess.call(['touch', path])"
   ]
  },
  {
   "cell_type": "code",
   "execution_count": 3,
   "metadata": {
    "collapsed": false
   },
   "outputs": [
    {
     "data": {
      "text/plain": [
       "[True,\n",
       " os.stat_result(st_mode=33206, st_ino=16887087, st_dev=16777219, st_nlink=1, st_uid=501, st_gid=0, st_size=0, st_atime=1461957326, st_mtime=1461957326, st_ctime=1461957326)]"
      ]
     },
     "execution_count": 3,
     "metadata": {},
     "output_type": "execute_result"
    }
   ],
   "source": [
    "[os.access(path, os.F_OK), os.stat(path)]"
   ]
  },
  {
   "cell_type": "code",
   "execution_count": 4,
   "metadata": {
    "collapsed": false
   },
   "outputs": [
    {
     "data": {
      "text/plain": [
       "'run as a subproc\\n'"
      ]
     },
     "execution_count": 4,
     "metadata": {},
     "output_type": "execute_result"
    }
   ],
   "source": [
    "# return the stdout command produces\n",
    "# can pick up stderr as well\n",
    "\n",
    "subprocess.check_output(['echo', 'run', 'as', 'a', 'subproc'], universal_newlines=True)\n"
   ]
  },
  {
   "cell_type": "markdown",
   "metadata": {},
   "source": [
    "- linux/mac has a command line [topological sort](http://en.wikipedia.org/wiki/Tsort)"
   ]
  },
  {
   "cell_type": "code",
   "execution_count": 5,
   "metadata": {
    "collapsed": false
   },
   "outputs": [
    {
     "name": "stdout",
     "output_type": "stream",
     "text": [
      "3 8\n",
      "3 10\n",
      "5 11\n",
      "7 8\n",
      "7 11\n",
      "8 9\n",
      "11 2\n",
      "11 9\n",
      "11 10\n",
      "\n"
     ]
    },
    {
     "data": {
      "text/plain": [
       "['7', '5', '3', '11', '10', '8', '2', '9']"
      ]
     },
     "execution_count": 5,
     "metadata": {},
     "output_type": "execute_result"
    }
   ],
   "source": [
    "# supply stdin, and read stdout\n",
    "# 3 comes before 8, 3 before 10, ...\n",
    "\n",
    "pairs = [[3, 8], [3, 10], [5, 11], [7, 8], [7, 11], [8, 9], [11, 2], [11, 9], [11, 10]]\n",
    "input = ''.join( [ ('%d %d\\n' % (l, r)) for l, r in pairs ])\n",
    "print(input)\n",
    "out=subprocess.check_output(['tsort'], input=input, universal_newlines=True)\n",
    "out.split()\n"
   ]
  },
  {
   "cell_type": "code",
   "execution_count": 6,
   "metadata": {
    "collapsed": false
   },
   "outputs": [
    {
     "data": {
      "text/plain": [
       "b'when in the course of barman events\\n'"
      ]
     },
     "execution_count": 6,
     "metadata": {},
     "output_type": "execute_result"
    }
   ],
   "source": [
    "# with universal_newlines false, input/output is binary\n",
    "# note input is a byte array\n",
    "\n",
    "subprocess.check_output([\"sed\", \"-e\", \"s/foo/bar/\"],\n",
    "                         input=b\"when in the course of fooman events\\n\")\n"
   ]
  },
  {
   "cell_type": "code",
   "execution_count": 7,
   "metadata": {
    "collapsed": false
   },
   "outputs": [
    {
     "data": {
      "text/plain": [
       "'       8       8      18\\n'"
      ]
     },
     "execution_count": 7,
     "metadata": {},
     "output_type": "execute_result"
    }
   ],
   "source": [
    "# run under a shell - can do pipes, redirects\n",
    "\n",
    "subprocess.check_output(['tsort|wc'], input=input, shell=True, universal_newlines=True)\n"
   ]
  },
  {
   "cell_type": "markdown",
   "metadata": {
    "collapsed": true
   },
   "source": [
    "# os.system\n",
    "- very simple, not much control"
   ]
  },
  {
   "cell_type": "code",
   "execution_count": 8,
   "metadata": {
    "collapsed": false
   },
   "outputs": [
    {
     "data": {
      "text/plain": [
       "0"
      ]
     },
     "execution_count": 8,
     "metadata": {},
     "output_type": "execute_result"
    }
   ],
   "source": [
    "# works on a mac\n",
    "\n",
    "import os\n",
    "os.system('say macs have a text to speech system built in')"
   ]
  },
  {
   "cell_type": "code",
   "execution_count": null,
   "metadata": {
    "collapsed": true
   },
   "outputs": [],
   "source": []
  }
 ],
 "metadata": {
  "kernelspec": {
   "display_name": "Python 3",
   "language": "python",
   "name": "python3"
  },
  "language_info": {
   "codemirror_mode": {
    "name": "ipython",
    "version": 3
   },
   "file_extension": ".py",
   "mimetype": "text/x-python",
   "name": "python",
   "nbconvert_exporter": "python",
   "pygments_lexer": "ipython3",
   "version": "3.5.1"
  }
 },
 "nbformat": 4,
 "nbformat_minor": 0
}
