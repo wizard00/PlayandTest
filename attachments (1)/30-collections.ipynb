{
 "cells": [
  {
   "cell_type": "markdown",
   "metadata": {},
   "source": [
    "# collections module\n",
    "- extra data structures\n",
    "- [doc](https://docs.python.org/3/library/collections.html)"
   ]
  },
  {
   "cell_type": "markdown",
   "metadata": {},
   "source": [
    "# defaultdict\n",
    "- can give it a 'default function'\n",
    "    - if a key doesn't exist, accessing it will create the key, and the value of the key will be the result of evaluting the default function\n",
    "- avoids tedious checking for missing keys\n",
    "- constructor takes an arg that creates missing keys"
   ]
  },
  {
   "cell_type": "code",
   "execution_count": 10,
   "metadata": {
    "collapsed": false
   },
   "outputs": [
    {
     "data": {
      "text/plain": [
       "defaultdict(list,\n",
       "            {'0': ['0', '0'],\n",
       "             '1': ['1'],\n",
       "             '2': ['2', '2', '2'],\n",
       "             '3': ['3', '3', '3', '3'],\n",
       "             '4': ['4', '4', '4', '4'],\n",
       "             '5': ['5', '5'],\n",
       "             '7': ['7', '7', '7'],\n",
       "             '8': ['8', '8', '8', '8'],\n",
       "             '9': ['9', '9', '9', '9']})"
      ]
     },
     "execution_count": 10,
     "metadata": {},
     "output_type": "execute_result"
    }
   ],
   "source": [
    "# list is the default func\n",
    "# list() => []\n",
    "from collections import *\n",
    "\n",
    "dd = defaultdict(list)\n",
    "for n in '123948709843598720345987234':\n",
    "    dd[n].append(n)\n",
    "dd"
   ]
  },
  {
   "cell_type": "code",
   "execution_count": 7,
   "metadata": {
    "collapsed": false
   },
   "outputs": [
    {
     "name": "stdout",
     "output_type": "stream",
     "text": [
      "[1, 2, 2, 3, 3, 3, 4, 4, 4, 4, 5, 5, 5, 5, 5, 6, 6, 6, 6, 6, 6, 7, 7, 7, 7, 7, 7, 7, 8, 8, 8, 8, 8, 8, 8, 8, 9, 9, 9, 9, 9, 9, 9, 9, 9]\n"
     ]
    },
    {
     "data": {
      "text/plain": [
       "defaultdict(int, {1: 1, 2: 2, 3: 3, 4: 4, 5: 5, 6: 6, 7: 7, 8: 8, 9: 9})"
      ]
     },
     "execution_count": 7,
     "metadata": {},
     "output_type": "execute_result"
    }
   ],
   "source": [
    "import random\n",
    "\n",
    "keys = []\n",
    "\n",
    "for j in range(10):\n",
    "    keys.extend(j*[j])\n",
    "print(keys)\n",
    "\n",
    "# count incidence of keys\n",
    "dd = defaultdict(int)\n",
    "\n",
    "for k in keys:\n",
    "    dd[k] += 1\n",
    "\n",
    "dd\n"
   ]
  },
  {
   "cell_type": "code",
   "execution_count": 18,
   "metadata": {
    "collapsed": false
   },
   "outputs": [
    {
     "data": {
      "text/plain": [
       "defaultdict(<function __main__.<lambda>>,\n",
       "            {'zap': 'Thu Apr 21 11:08:42 2016',\n",
       "             'zip': 'Thu Apr 21 11:08:42 2016'})"
      ]
     },
     "execution_count": 18,
     "metadata": {},
     "output_type": "execute_result"
    }
   ],
   "source": [
    "# a lambda can supply non constant defaults\n",
    "# record access times\n",
    "\n",
    "import datetime\n",
    "\n",
    "dd = defaultdict(lambda : datetime.datetime.now().ctime())\n",
    "dd['zap']\n",
    "dd['zip']\n",
    "dd"
   ]
  },
  {
   "cell_type": "markdown",
   "metadata": {},
   "source": [
    "# deque\n",
    "- 'double sided' list\n",
    "- fast appends, pops, and extends on each end\n",
    "- unlike list, has a rotate function\n",
    "- [doc](https://docs.python.org/3.5/library/collections.html#collections.deque)"
   ]
  },
  {
   "cell_type": "code",
   "execution_count": 16,
   "metadata": {
    "collapsed": false
   },
   "outputs": [
    {
     "data": {
      "text/plain": [
       "deque([0, 1, 2, 3, 4])"
      ]
     },
     "execution_count": 16,
     "metadata": {},
     "output_type": "execute_result"
    }
   ],
   "source": [
    "d = deque(range(5))\n",
    "d"
   ]
  },
  {
   "cell_type": "code",
   "execution_count": 17,
   "metadata": {
    "collapsed": false
   },
   "outputs": [
    {
     "data": {
      "text/plain": [
       "deque([0, 1, 2, 3, 4, 100])"
      ]
     },
     "execution_count": 17,
     "metadata": {},
     "output_type": "execute_result"
    }
   ],
   "source": [
    "# deque append is like list append\n",
    "\n",
    "d.append(100)\n",
    "d"
   ]
  },
  {
   "cell_type": "code",
   "execution_count": 18,
   "metadata": {
    "collapsed": false
   },
   "outputs": [
    {
     "data": {
      "text/plain": [
       "deque([200, 0, 1, 2, 3, 4, 100])"
      ]
     },
     "execution_count": 18,
     "metadata": {},
     "output_type": "execute_result"
    }
   ],
   "source": [
    "# but can also append on the left side\n",
    "\n",
    "d.appendleft(200)\n",
    "d"
   ]
  },
  {
   "cell_type": "code",
   "execution_count": 19,
   "metadata": {
    "collapsed": false
   },
   "outputs": [
    {
     "name": "stdout",
     "output_type": "stream",
     "text": [
      "100\n"
     ]
    },
    {
     "data": {
      "text/plain": [
       "deque([200, 0, 1, 2, 3, 4])"
      ]
     },
     "execution_count": 19,
     "metadata": {},
     "output_type": "execute_result"
    }
   ],
   "source": [
    "# likewise for pop\n",
    "\n",
    "print(d.pop())\n",
    "d"
   ]
  },
  {
   "cell_type": "code",
   "execution_count": 20,
   "metadata": {
    "collapsed": false
   },
   "outputs": [
    {
     "name": "stdout",
     "output_type": "stream",
     "text": [
      "200\n"
     ]
    },
    {
     "data": {
      "text/plain": [
       "deque([0, 1, 2, 3, 4])"
      ]
     },
     "execution_count": 20,
     "metadata": {},
     "output_type": "execute_result"
    }
   ],
   "source": [
    "# pop on the left\n",
    "\n",
    "print(d.popleft())\n",
    "d"
   ]
  },
  {
   "cell_type": "code",
   "execution_count": 21,
   "metadata": {
    "collapsed": false
   },
   "outputs": [
    {
     "data": {
      "text/plain": [
       "deque([3, 4, 0, 1, 2])"
      ]
     },
     "execution_count": 21,
     "metadata": {},
     "output_type": "execute_result"
    }
   ],
   "source": [
    "d.rotate(2)\n",
    "d"
   ]
  },
  {
   "cell_type": "code",
   "execution_count": 22,
   "metadata": {
    "collapsed": false
   },
   "outputs": [
    {
     "data": {
      "text/plain": [
       "[3, 4, 2, 1]"
      ]
     },
     "execution_count": 22,
     "metadata": {},
     "output_type": "execute_result"
    }
   ],
   "source": [
    "# usual element access\n",
    "\n",
    "[d[0],d[1], d[-1], d[-2]]"
   ]
  },
  {
   "cell_type": "code",
   "execution_count": 25,
   "metadata": {
    "collapsed": false
   },
   "outputs": [
    {
     "data": {
      "text/plain": [
       "deque([0, 1, 2])"
      ]
     },
     "execution_count": 25,
     "metadata": {},
     "output_type": "execute_result"
    }
   ],
   "source": [
    "# maxlen can be useful when you only want to keep finite history\n",
    "\n",
    "d = deque(range(3), maxlen=3)\n",
    "d"
   ]
  },
  {
   "cell_type": "code",
   "execution_count": 26,
   "metadata": {
    "collapsed": false
   },
   "outputs": [
    {
     "data": {
      "text/plain": [
       "deque([1, 2, 100])"
      ]
     },
     "execution_count": 26,
     "metadata": {},
     "output_type": "execute_result"
    }
   ],
   "source": [
    "# 0 on the left is kicked out\n",
    "\n",
    "d.append(100)\n",
    "d"
   ]
  },
  {
   "cell_type": "code",
   "execution_count": 27,
   "metadata": {
    "collapsed": false
   },
   "outputs": [
    {
     "data": {
      "text/plain": [
       "deque([200, 1, 2])"
      ]
     },
     "execution_count": 27,
     "metadata": {},
     "output_type": "execute_result"
    }
   ],
   "source": [
    "# 100 on the right is kicked out\n",
    "\n",
    "d.appendleft(200)\n",
    "d"
   ]
  },
  {
   "cell_type": "markdown",
   "metadata": {},
   "source": [
    "# namedtuple\n",
    "- associates field names with with tuple elements\n",
    "- eliminate 'magic' index numbers"
   ]
  },
  {
   "cell_type": "code",
   "execution_count": 3,
   "metadata": {
    "collapsed": false
   },
   "outputs": [
    {
     "data": {
      "text/plain": [
       "__main__.Point"
      ]
     },
     "execution_count": 3,
     "metadata": {},
     "output_type": "execute_result"
    }
   ],
   "source": [
    "xyzw = namedtuple('Point', 'x y z w')\n",
    "xyzw"
   ]
  },
  {
   "cell_type": "code",
   "execution_count": 4,
   "metadata": {
    "collapsed": false
   },
   "outputs": [
    {
     "data": {
      "text/plain": [
       "Point(x=1, y=2, z=3, w=4)"
      ]
     },
     "execution_count": 4,
     "metadata": {},
     "output_type": "execute_result"
    }
   ],
   "source": [
    "# nice printing\n",
    "\n",
    "p = xyzw._make([1,2,3,4])\n",
    "p"
   ]
  },
  {
   "cell_type": "code",
   "execution_count": 5,
   "metadata": {
    "collapsed": false
   },
   "outputs": [
    {
     "data": {
      "text/plain": [
       "[1, 2, 3, 4]"
      ]
     },
     "execution_count": 5,
     "metadata": {},
     "output_type": "execute_result"
    }
   ],
   "source": [
    "# can access by field name\n",
    "\n",
    "[p.x, p.y, p.z, p.w]"
   ]
  },
  {
   "cell_type": "markdown",
   "metadata": {},
   "source": [
    "# heapq\n",
    "- lives in its own module, not in collections"
   ]
  },
  {
   "cell_type": "code",
   "execution_count": 6,
   "metadata": {
    "collapsed": false
   },
   "outputs": [
    {
     "data": {
      "text/plain": [
       "[9,\n",
       " 9,\n",
       " 5,\n",
       " 8,\n",
       " 2,\n",
       " 10,\n",
       " 7,\n",
       " 0,\n",
       " 1,\n",
       " 7,\n",
       " 1,\n",
       " 9,\n",
       " 8,\n",
       " 10,\n",
       " 5,\n",
       " 8,\n",
       " 4,\n",
       " 6,\n",
       " 8,\n",
       " 2,\n",
       " 1,\n",
       " 5,\n",
       " 3,\n",
       " 10,\n",
       " 6,\n",
       " 0,\n",
       " 0,\n",
       " 1,\n",
       " 9,\n",
       " 3,\n",
       " 7,\n",
       " 4,\n",
       " 8,\n",
       " 10,\n",
       " 6,\n",
       " 8,\n",
       " 3,\n",
       " 9,\n",
       " 2,\n",
       " 7]"
      ]
     },
     "execution_count": 6,
     "metadata": {},
     "output_type": "execute_result"
    }
   ],
   "source": [
    "from heapq import *\n",
    "import random\n",
    "ri = [ random.randint(0, 10) for j in range(40) ]\n",
    "ri"
   ]
  },
  {
   "cell_type": "code",
   "execution_count": 8,
   "metadata": {
    "collapsed": false
   },
   "outputs": [
    {
     "data": {
      "text/plain": [
       "[0,\n",
       " 1,\n",
       " 0,\n",
       " 2,\n",
       " 1,\n",
       " 0,\n",
       " 1,\n",
       " 4,\n",
       " 2,\n",
       " 1,\n",
       " 3,\n",
       " 8,\n",
       " 5,\n",
       " 7,\n",
       " 3,\n",
       " 4,\n",
       " 6,\n",
       " 5,\n",
       " 3,\n",
       " 7,\n",
       " 2,\n",
       " 7,\n",
       " 5,\n",
       " 10,\n",
       " 10,\n",
       " 9,\n",
       " 6,\n",
       " 10,\n",
       " 9,\n",
       " 9,\n",
       " 7,\n",
       " 9,\n",
       " 8,\n",
       " 10,\n",
       " 8,\n",
       " 8,\n",
       " 6,\n",
       " 9,\n",
       " 8,\n",
       " 8]"
      ]
     },
     "execution_count": 8,
     "metadata": {},
     "output_type": "execute_result"
    }
   ],
   "source": [
    "h = []\n",
    "for j in ri:\n",
    "    heappush(h, j)\n",
    "h"
   ]
  },
  {
   "cell_type": "code",
   "execution_count": 13,
   "metadata": {
    "collapsed": false
   },
   "outputs": [
    {
     "data": {
      "text/plain": [
       "[10, 10, 10, 9]"
      ]
     },
     "execution_count": 13,
     "metadata": {},
     "output_type": "execute_result"
    }
   ],
   "source": [
    "nlargest(4, h)"
   ]
  },
  {
   "cell_type": "code",
   "execution_count": 9,
   "metadata": {
    "collapsed": false
   },
   "outputs": [
    {
     "data": {
      "text/plain": [
       "[0, 0, 0, 1, 1]"
      ]
     },
     "execution_count": 9,
     "metadata": {},
     "output_type": "execute_result"
    }
   ],
   "source": [
    "nsmallest(5,h)"
   ]
  }
 ],
 "metadata": {
  "kernelspec": {
   "display_name": "Python 3",
   "language": "python",
   "name": "python3"
  },
  "language_info": {
   "codemirror_mode": {
    "name": "ipython",
    "version": 3
   },
   "file_extension": ".py",
   "mimetype": "text/x-python",
   "name": "python",
   "nbconvert_exporter": "python",
   "pygments_lexer": "ipython3",
   "version": "3.5.1"
  }
 },
 "nbformat": 4,
 "nbformat_minor": 0
}
