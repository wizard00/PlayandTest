{
 "cells": [
  {
   "cell_type": "markdown",
   "metadata": {},
   "source": [
    "# Introduction to Python\n",
    "\n",
    "# Homework #5\n",
    "# Due Friday April 29 , 1:50pm \n"
   ]
  },
  {
   "cell_type": "markdown",
   "metadata": {},
   "source": [
    "# Academic Honesty\n",
    "* The computer science department has strict polices. Check\n",
    "the department [web page](http://www.cs.columbia.edu/education/honesty) for details. \n",
    "- Do not look at anybody else's source code. Do not show anybody\n",
    "your source, or leave your source where somebody could see it.\n",
    "You MUST write your own code.\n",
    "- For this class, feel free to discuss issues with other people, but suggest waiting an hour or two after a discussion, before writing your code.\n",
    "-  Cases of non original source will be refered to the Judical Committee.\n",
    "\n"
   ]
  },
  {
   "cell_type": "markdown",
   "metadata": {},
   "source": [
    "# Reminder \n",
    "- if you did the first four homeworks and are happy with them, you do NOT need to do this one"
   ]
  },
  {
   "cell_type": "markdown",
   "metadata": {},
   "source": [
    "# Problem 1 \n",
    "- Python is very popular in finance\n",
    "- use pandas data frames to analyse stocks\n",
    "- grab data from Yahoo"
   ]
  },
  {
   "cell_type": "code",
   "execution_count": 2,
   "metadata": {
    "collapsed": true
   },
   "outputs": [],
   "source": [
    "import pandas as pd\n",
    "\n",
    "def getStockDF(symbol):\n",
    "    return pd.read_csv(\"http://chart.yahoo.com/table.csv?s=\" + symbol)\n",
    "\n",
    "apple=getStockDF('AAPL')"
   ]
  },
  {
   "cell_type": "code",
   "execution_count": 3,
   "metadata": {
    "collapsed": false
   },
   "outputs": [
    {
     "data": {
      "text/html": [
       "<div>\n",
       "<table border=\"1\" class=\"dataframe\">\n",
       "  <thead>\n",
       "    <tr style=\"text-align: right;\">\n",
       "      <th></th>\n",
       "      <th>Open</th>\n",
       "      <th>High</th>\n",
       "      <th>Low</th>\n",
       "      <th>Close</th>\n",
       "      <th>Volume</th>\n",
       "      <th>Adj Close</th>\n",
       "    </tr>\n",
       "  </thead>\n",
       "  <tbody>\n",
       "    <tr>\n",
       "      <th>count</th>\n",
       "      <td>8920.000000</td>\n",
       "      <td>8920.000000</td>\n",
       "      <td>8920.000000</td>\n",
       "      <td>8920.000000</td>\n",
       "      <td>8.920000e+03</td>\n",
       "      <td>8920.000000</td>\n",
       "    </tr>\n",
       "    <tr>\n",
       "      <th>mean</th>\n",
       "      <td>99.302433</td>\n",
       "      <td>100.546393</td>\n",
       "      <td>97.946272</td>\n",
       "      <td>99.257369</td>\n",
       "      <td>9.171386e+07</td>\n",
       "      <td>15.852856</td>\n",
       "    </tr>\n",
       "    <tr>\n",
       "      <th>std</th>\n",
       "      <td>138.353692</td>\n",
       "      <td>139.511540</td>\n",
       "      <td>136.974708</td>\n",
       "      <td>138.267556</td>\n",
       "      <td>8.824987e+07</td>\n",
       "      <td>29.808973</td>\n",
       "    </tr>\n",
       "    <tr>\n",
       "      <th>min</th>\n",
       "      <td>11.125000</td>\n",
       "      <td>11.125000</td>\n",
       "      <td>11.000000</td>\n",
       "      <td>11.000000</td>\n",
       "      <td>2.504000e+05</td>\n",
       "      <td>0.166046</td>\n",
       "    </tr>\n",
       "    <tr>\n",
       "      <th>25%</th>\n",
       "      <td>26.333125</td>\n",
       "      <td>26.750000</td>\n",
       "      <td>25.875000</td>\n",
       "      <td>26.250000</td>\n",
       "      <td>3.703140e+07</td>\n",
       "      <td>0.912568</td>\n",
       "    </tr>\n",
       "    <tr>\n",
       "      <th>50%</th>\n",
       "      <td>42.249999</td>\n",
       "      <td>42.948750</td>\n",
       "      <td>41.374999</td>\n",
       "      <td>42.187501</td>\n",
       "      <td>6.411630e+07</td>\n",
       "      <td>1.415850</td>\n",
       "    </tr>\n",
       "    <tr>\n",
       "      <th>75%</th>\n",
       "      <td>96.982500</td>\n",
       "      <td>98.917499</td>\n",
       "      <td>95.182501</td>\n",
       "      <td>97.039999</td>\n",
       "      <td>1.141793e+08</td>\n",
       "      <td>12.293173</td>\n",
       "    </tr>\n",
       "    <tr>\n",
       "      <th>max</th>\n",
       "      <td>702.409988</td>\n",
       "      <td>705.070023</td>\n",
       "      <td>699.569977</td>\n",
       "      <td>702.100021</td>\n",
       "      <td>1.855410e+09</td>\n",
       "      <td>130.671320</td>\n",
       "    </tr>\n",
       "  </tbody>\n",
       "</table>\n",
       "</div>"
      ],
      "text/plain": [
       "              Open         High          Low        Close        Volume  \\\n",
       "count  8920.000000  8920.000000  8920.000000  8920.000000  8.920000e+03   \n",
       "mean     99.302433   100.546393    97.946272    99.257369  9.171386e+07   \n",
       "std     138.353692   139.511540   136.974708   138.267556  8.824987e+07   \n",
       "min      11.125000    11.125000    11.000000    11.000000  2.504000e+05   \n",
       "25%      26.333125    26.750000    25.875000    26.250000  3.703140e+07   \n",
       "50%      42.249999    42.948750    41.374999    42.187501  6.411630e+07   \n",
       "75%      96.982500    98.917499    95.182501    97.039999  1.141793e+08   \n",
       "max     702.409988   705.070023   699.569977   702.100021  1.855410e+09   \n",
       "\n",
       "         Adj Close  \n",
       "count  8920.000000  \n",
       "mean     15.852856  \n",
       "std      29.808973  \n",
       "min       0.166046  \n",
       "25%       0.912568  \n",
       "50%       1.415850  \n",
       "75%      12.293173  \n",
       "max     130.671320  "
      ]
     },
     "execution_count": 3,
     "metadata": {},
     "output_type": "execute_result"
    }
   ],
   "source": [
    "# quick summary of the data \n",
    "# these are NOT the results you will get below, because we are using \n",
    "# a subset of this data\n",
    "\n",
    "apple.describe()"
   ]
  },
  {
   "cell_type": "markdown",
   "metadata": {},
   "source": [
    "# define 'stkstats'\n",
    "- use trading data from the first trading day in 2005, to the last trading day in 2015\n",
    "    - you can find these days from the data frame\n",
    "- use 'Close' field for price calculations\n",
    "- return a list of [close mean, close min, close max, close std, volume mean]"
   ]
  },
  {
   "cell_type": "code",
   "execution_count": 57,
   "metadata": {
    "collapsed": false
   },
   "outputs": [
    {
     "data": {
      "text/plain": [
       "[45.58232613759494, 4.186585, 130.67132, 35.939746533519404, 153458928.2051282]"
      ]
     },
     "execution_count": 57,
     "metadata": {},
     "output_type": "execute_result"
    }
   ],
   "source": [
    "# apple\n",
    "def stkstats(symbol):\n",
    "    temp = getStockDF(symbol)\n",
    "    temp2 = temp [temp['Date'] >= '2005-01-01']\n",
    "    temp3 = temp2[temp2['Date']  < '2016-01-01']\n",
    "    return temp\n",
    "#[ temp3['Adj Close'].mean(),temp3['Adj Close'].min(),temp3['Adj Close'].max(),temp3['Adj Close'].std(),temp3['Volume'].mean() ]\n",
    "    \n",
    "stkstats('AAPL')\n"
   ]
  },
  {
   "cell_type": "code",
   "execution_count": 58,
   "metadata": {
    "collapsed": false
   },
   "outputs": [
    {
     "data": {
      "text/plain": [
       "[322.15456219826655,\n",
       " 87.407744,\n",
       " 776.599976,\n",
       " 148.64689344569794,\n",
       " 8699994.980137235]"
      ]
     },
     "execution_count": 58,
     "metadata": {},
     "output_type": "execute_result"
    }
   ],
   "source": [
    "# google\n",
    "\n",
    "stkstats('GOOG')"
   ]
  },
  {
   "cell_type": "markdown",
   "metadata": {},
   "source": [
    "# Problem 2\n",
    "- You are in a store, and you have some cash burning a hole in your pocket - you want to spend all of it!!\n",
    "- write 'pickitems' \n",
    "  - 1st arg - list of prices for things in the store. you can buy at most one item at each listed price\n",
    "  - 2nd arg - cash you have\n",
    "  - returns - list of prices that will exactly spend(sum up to)your cash\n",
    "- itertools module is your friend\n",
    "    - use brute force - try all combinations\n",
    "    - there may be more than one solution - return the first one you find\n",
    "- if you can't spend all your money, return None"
   ]
  },
  {
   "cell_type": "code",
   "execution_count": 10,
   "metadata": {
    "collapsed": false
   },
   "outputs": [
    {
     "data": {
      "text/plain": [
       "(221, 321)"
      ]
     },
     "execution_count": 10,
     "metadata": {},
     "output_type": "execute_result"
    }
   ],
   "source": [
    "from itertools import *\n",
    "cash1 = 4\n",
    "prices1= [1,1,1,1,8]\n",
    "\n",
    "cash2 = 200\n",
    "prices2 = [150, 24, 79, 50, 88, 345, 3]\n",
    "\n",
    "cash3 = 8\n",
    "prices3 = [2, 1, 9, 4, 4, 56, 90, 3]\n",
    "\n",
    "cash4 = 542\n",
    "prices4 = [230, 863, 916, 585, 981, 404, 316, 785, \n",
    "       88, 12, 70, 435, 384, 778, 887, 755, 740, \n",
    "       337, 86, 92, 325, 422, 815, 650, 920, 125,\n",
    "       277, 336, 221, 847, 168, 23, 677, 61, 400,\n",
    "       136, 874, 363, 394, 199, 863, 997, 794, 587,\n",
    "       124, 321, 212, 957, 764, 173, 314, 422, 927,\n",
    "       783, 930, 282, 306, 506, 44, 926, 691, 568,\n",
    "       68, 730, 933, 737, 531, 180, 414, 751, 28, \n",
    "       546, 60, 371, 493, 370, 527, 387, 43, 541,\n",
    "       13, 457, 328, 227, 652, 365, 430, 803, 59,\n",
    "       858, 538, 427, 583, 368, 375, 173, 809, 896,\n",
    "       370, 789]\n",
    "def pickitems(prices,cash):\n",
    "    \n",
    "    for r in range(len(prices)+1):\n",
    "        temp = combinations(prices,r)\n",
    "        for x in temp:\n",
    "            if sum(x) == cash :\n",
    "                return x\n",
    "        \n",
    "    return None\n"
   ]
  },
  {
   "cell_type": "code",
   "execution_count": 11,
   "metadata": {
    "collapsed": false
   },
   "outputs": [
    {
     "data": {
      "text/plain": [
       "[(1, 1, 1, 1), (150, 50), (4, 4), (221, 321)]"
      ]
     },
     "execution_count": 11,
     "metadata": {},
     "output_type": "execute_result"
    }
   ],
   "source": [
    "[pickitems(prices1, cash1), pickitems(prices2, cash2), \n",
    " pickitems(prices3, cash3), pickitems(prices4, cash4)]"
   ]
  },
  {
   "cell_type": "markdown",
   "metadata": {},
   "source": [
    "# Problem 3\n",
    "- define a function decorator 'secure'\n",
    "- secure adds two required arguments before any others, a 'user' and a 'password'\n",
    "- if the user is not registered, raise an Exception\n",
    "- if the user is registered, but the password is wrong, raise an Exception"
   ]
  },
  {
   "cell_type": "code",
   "execution_count": 20,
   "metadata": {
    "collapsed": false
   },
   "outputs": [],
   "source": [
    "# just use a dict as the user/password 'database'\n",
    "\n",
    "up = dict()\n",
    "up['jack'] = 'jackpw'\n",
    "up['jill'] = 'jillpw'\n",
    "\n",
    "\n",
    "\n",
    "class secure(object):\n",
    "    def __init__(self,f):\n",
    "        self.f = f\n",
    "    def __call__(self, user, password, *pos, **kw):\n",
    "        if not user in up:\n",
    "            raise Exception('User {} not registered'.format(user))\n",
    "        if password != up[user]:\n",
    "            raise Exception('Bad password {} for user {}'.format( password, user))\n",
    "        return(self.f(*pos, **kw))\n",
    "\n",
    "\n",
    "@secure\n",
    "def foo(a,b):\n",
    "    return (a+b)\n",
    "\n",
    "@secure\n",
    "def bar(a, b=34):\n",
    "    return(a+b)\n"
   ]
  },
  {
   "cell_type": "code",
   "execution_count": 21,
   "metadata": {
    "collapsed": false
   },
   "outputs": [
    {
     "ename": "Exception",
     "evalue": "User 1 not registered",
     "output_type": "error",
     "traceback": [
      "\u001b[0;31m---------------------------------------------------------------------------\u001b[0m",
      "\u001b[0;31mException\u001b[0m                                 Traceback (most recent call last)",
      "\u001b[0;32m<ipython-input-21-750e3ba2ca5c>\u001b[0m in \u001b[0;36m<module>\u001b[0;34m()\u001b[0m\n\u001b[1;32m      1\u001b[0m \u001b[0;31m# bad call - no user/pw\u001b[0m\u001b[0;34m\u001b[0m\u001b[0;34m\u001b[0m\u001b[0m\n\u001b[1;32m      2\u001b[0m \u001b[0;34m\u001b[0m\u001b[0m\n\u001b[0;32m----> 3\u001b[0;31m \u001b[0mfoo\u001b[0m\u001b[0;34m(\u001b[0m\u001b[0;36m1\u001b[0m\u001b[0;34m,\u001b[0m\u001b[0;36m2\u001b[0m\u001b[0;34m)\u001b[0m\u001b[0;34m\u001b[0m\u001b[0m\n\u001b[0m",
      "\u001b[0;32m<ipython-input-20-f8e52638e2d6>\u001b[0m in \u001b[0;36m__call__\u001b[0;34m(self, user, password, *pos, **kw)\u001b[0m\n\u001b[1;32m     12\u001b[0m     \u001b[0;32mdef\u001b[0m \u001b[0m__call__\u001b[0m\u001b[0;34m(\u001b[0m\u001b[0mself\u001b[0m\u001b[0;34m,\u001b[0m \u001b[0muser\u001b[0m\u001b[0;34m,\u001b[0m \u001b[0mpassword\u001b[0m\u001b[0;34m,\u001b[0m \u001b[0;34m*\u001b[0m\u001b[0mpos\u001b[0m\u001b[0;34m,\u001b[0m \u001b[0;34m**\u001b[0m\u001b[0mkw\u001b[0m\u001b[0;34m)\u001b[0m\u001b[0;34m:\u001b[0m\u001b[0;34m\u001b[0m\u001b[0m\n\u001b[1;32m     13\u001b[0m         \u001b[0;32mif\u001b[0m \u001b[0;32mnot\u001b[0m \u001b[0muser\u001b[0m \u001b[0;32min\u001b[0m \u001b[0mup\u001b[0m\u001b[0;34m:\u001b[0m\u001b[0;34m\u001b[0m\u001b[0m\n\u001b[0;32m---> 14\u001b[0;31m             \u001b[0;32mraise\u001b[0m \u001b[0mException\u001b[0m\u001b[0;34m(\u001b[0m\u001b[0;34m'User {} not registered'\u001b[0m\u001b[0;34m.\u001b[0m\u001b[0mformat\u001b[0m\u001b[0;34m(\u001b[0m\u001b[0muser\u001b[0m\u001b[0;34m)\u001b[0m\u001b[0;34m)\u001b[0m\u001b[0;34m\u001b[0m\u001b[0m\n\u001b[0m\u001b[1;32m     15\u001b[0m         \u001b[0;32mif\u001b[0m \u001b[0mpassword\u001b[0m \u001b[0;34m!=\u001b[0m \u001b[0mup\u001b[0m\u001b[0;34m[\u001b[0m\u001b[0muser\u001b[0m\u001b[0;34m]\u001b[0m\u001b[0;34m:\u001b[0m\u001b[0;34m\u001b[0m\u001b[0m\n\u001b[1;32m     16\u001b[0m             \u001b[0;32mraise\u001b[0m \u001b[0mException\u001b[0m\u001b[0;34m(\u001b[0m\u001b[0;34m'Bad password {} for user {}'\u001b[0m\u001b[0;34m.\u001b[0m\u001b[0mformat\u001b[0m\u001b[0;34m(\u001b[0m \u001b[0mpassword\u001b[0m\u001b[0;34m,\u001b[0m \u001b[0muser\u001b[0m\u001b[0;34m)\u001b[0m\u001b[0;34m)\u001b[0m\u001b[0;34m\u001b[0m\u001b[0m\n",
      "\u001b[0;31mException\u001b[0m: User 1 not registered"
     ]
    }
   ],
   "source": [
    "# bad call - no user/pw\n",
    "\n",
    "foo(1,2)"
   ]
  },
  {
   "cell_type": "code",
   "execution_count": 22,
   "metadata": {
    "collapsed": false
   },
   "outputs": [
    {
     "data": {
      "text/plain": [
       "3"
      ]
     },
     "execution_count": 22,
     "metadata": {},
     "output_type": "execute_result"
    }
   ],
   "source": [
    "# good call\n",
    "\n",
    "foo('jack', 'jackpw', 1 ,2)"
   ]
  },
  {
   "cell_type": "code",
   "execution_count": 15,
   "metadata": {
    "collapsed": false
   },
   "outputs": [
    {
     "ename": "Exception",
     "evalue": "User frank not registered",
     "output_type": "error",
     "traceback": [
      "\u001b[0;31m---------------------------------------------------------------------------\u001b[0m",
      "\u001b[0;31mException\u001b[0m                                 Traceback (most recent call last)",
      "\u001b[0;32m<ipython-input-15-b35ba770f676>\u001b[0m in \u001b[0;36m<module>\u001b[0;34m()\u001b[0m\n\u001b[1;32m      1\u001b[0m \u001b[0;31m# bad user\u001b[0m\u001b[0;34m\u001b[0m\u001b[0;34m\u001b[0m\u001b[0m\n\u001b[1;32m      2\u001b[0m \u001b[0;34m\u001b[0m\u001b[0m\n\u001b[0;32m----> 3\u001b[0;31m \u001b[0mfoo\u001b[0m\u001b[0;34m(\u001b[0m\u001b[0;34m'frank'\u001b[0m\u001b[0;34m,\u001b[0m \u001b[0;34m'bad'\u001b[0m\u001b[0;34m,\u001b[0m \u001b[0;36m1\u001b[0m \u001b[0;34m,\u001b[0m\u001b[0;36m2\u001b[0m\u001b[0;34m)\u001b[0m\u001b[0;34m\u001b[0m\u001b[0m\n\u001b[0m",
      "\u001b[0;32m<ipython-input-12-56eb167630c5>\u001b[0m in \u001b[0;36m__call__\u001b[0;34m(self, user, pw, *pos, **kw)\u001b[0m\n\u001b[1;32m     12\u001b[0m     \u001b[0;32mdef\u001b[0m \u001b[0m__call__\u001b[0m\u001b[0;34m(\u001b[0m\u001b[0mself\u001b[0m\u001b[0;34m,\u001b[0m \u001b[0muser\u001b[0m\u001b[0;34m,\u001b[0m \u001b[0mpw\u001b[0m\u001b[0;34m,\u001b[0m \u001b[0;34m*\u001b[0m\u001b[0mpos\u001b[0m\u001b[0;34m,\u001b[0m \u001b[0;34m**\u001b[0m\u001b[0mkw\u001b[0m\u001b[0;34m)\u001b[0m\u001b[0;34m:\u001b[0m\u001b[0;34m\u001b[0m\u001b[0m\n\u001b[1;32m     13\u001b[0m         \u001b[0;32mif\u001b[0m \u001b[0;32mnot\u001b[0m \u001b[0muser\u001b[0m \u001b[0;32min\u001b[0m \u001b[0mup\u001b[0m\u001b[0;34m:\u001b[0m\u001b[0;34m\u001b[0m\u001b[0m\n\u001b[0;32m---> 14\u001b[0;31m             \u001b[0;32mraise\u001b[0m \u001b[0mException\u001b[0m\u001b[0;34m(\u001b[0m\u001b[0;34m'User {} not registered'\u001b[0m\u001b[0;34m.\u001b[0m\u001b[0mformat\u001b[0m\u001b[0;34m(\u001b[0m\u001b[0muser\u001b[0m\u001b[0;34m)\u001b[0m\u001b[0;34m)\u001b[0m\u001b[0;34m\u001b[0m\u001b[0m\n\u001b[0m\u001b[1;32m     15\u001b[0m         \u001b[0;32mif\u001b[0m \u001b[0mpw\u001b[0m \u001b[0;34m!=\u001b[0m \u001b[0mup\u001b[0m\u001b[0;34m[\u001b[0m\u001b[0muser\u001b[0m\u001b[0;34m]\u001b[0m\u001b[0;34m:\u001b[0m\u001b[0;34m\u001b[0m\u001b[0m\n\u001b[1;32m     16\u001b[0m             \u001b[0;32mraise\u001b[0m \u001b[0mException\u001b[0m\u001b[0;34m(\u001b[0m\u001b[0;34m'Bad password {} for user {}'\u001b[0m\u001b[0;34m.\u001b[0m\u001b[0mformat\u001b[0m\u001b[0;34m(\u001b[0m \u001b[0mpw\u001b[0m\u001b[0;34m,\u001b[0m \u001b[0muser\u001b[0m\u001b[0;34m)\u001b[0m\u001b[0;34m)\u001b[0m\u001b[0;34m\u001b[0m\u001b[0m\n",
      "\u001b[0;31mException\u001b[0m: User frank not registered"
     ]
    }
   ],
   "source": [
    "# bad user\n",
    "\n",
    "foo('frank', 'bad', 1 ,2)"
   ]
  },
  {
   "cell_type": "code",
   "execution_count": 16,
   "metadata": {
    "collapsed": false
   },
   "outputs": [
    {
     "ename": "Exception",
     "evalue": "Bad password nope for user jill",
     "output_type": "error",
     "traceback": [
      "\u001b[0;31m---------------------------------------------------------------------------\u001b[0m",
      "\u001b[0;31mException\u001b[0m                                 Traceback (most recent call last)",
      "\u001b[0;32m<ipython-input-16-ebb563ec7723>\u001b[0m in \u001b[0;36m<module>\u001b[0;34m()\u001b[0m\n\u001b[1;32m      1\u001b[0m \u001b[0;31m# good user, bad passwd\u001b[0m\u001b[0;34m\u001b[0m\u001b[0;34m\u001b[0m\u001b[0m\n\u001b[1;32m      2\u001b[0m \u001b[0;34m\u001b[0m\u001b[0m\n\u001b[0;32m----> 3\u001b[0;31m \u001b[0mfoo\u001b[0m\u001b[0;34m(\u001b[0m\u001b[0;34m'jill'\u001b[0m\u001b[0;34m,\u001b[0m \u001b[0;34m'nope'\u001b[0m\u001b[0;34m,\u001b[0m \u001b[0;36m3\u001b[0m\u001b[0;34m,\u001b[0m \u001b[0;36m4\u001b[0m\u001b[0;34m)\u001b[0m\u001b[0;34m\u001b[0m\u001b[0m\n\u001b[0m",
      "\u001b[0;32m<ipython-input-12-56eb167630c5>\u001b[0m in \u001b[0;36m__call__\u001b[0;34m(self, user, pw, *pos, **kw)\u001b[0m\n\u001b[1;32m     14\u001b[0m             \u001b[0;32mraise\u001b[0m \u001b[0mException\u001b[0m\u001b[0;34m(\u001b[0m\u001b[0;34m'User {} not registered'\u001b[0m\u001b[0;34m.\u001b[0m\u001b[0mformat\u001b[0m\u001b[0;34m(\u001b[0m\u001b[0muser\u001b[0m\u001b[0;34m)\u001b[0m\u001b[0;34m)\u001b[0m\u001b[0;34m\u001b[0m\u001b[0m\n\u001b[1;32m     15\u001b[0m         \u001b[0;32mif\u001b[0m \u001b[0mpw\u001b[0m \u001b[0;34m!=\u001b[0m \u001b[0mup\u001b[0m\u001b[0;34m[\u001b[0m\u001b[0muser\u001b[0m\u001b[0;34m]\u001b[0m\u001b[0;34m:\u001b[0m\u001b[0;34m\u001b[0m\u001b[0m\n\u001b[0;32m---> 16\u001b[0;31m             \u001b[0;32mraise\u001b[0m \u001b[0mException\u001b[0m\u001b[0;34m(\u001b[0m\u001b[0;34m'Bad password {} for user {}'\u001b[0m\u001b[0;34m.\u001b[0m\u001b[0mformat\u001b[0m\u001b[0;34m(\u001b[0m \u001b[0mpw\u001b[0m\u001b[0;34m,\u001b[0m \u001b[0muser\u001b[0m\u001b[0;34m)\u001b[0m\u001b[0;34m)\u001b[0m\u001b[0;34m\u001b[0m\u001b[0m\n\u001b[0m\u001b[1;32m     17\u001b[0m         \u001b[0;32mreturn\u001b[0m\u001b[0;34m(\u001b[0m\u001b[0mself\u001b[0m\u001b[0;34m.\u001b[0m\u001b[0mf\u001b[0m\u001b[0;34m(\u001b[0m\u001b[0;34m*\u001b[0m\u001b[0mpos\u001b[0m\u001b[0;34m,\u001b[0m \u001b[0;34m**\u001b[0m\u001b[0mkw\u001b[0m\u001b[0;34m)\u001b[0m\u001b[0;34m)\u001b[0m\u001b[0;34m\u001b[0m\u001b[0m\n\u001b[1;32m     18\u001b[0m \u001b[0;34m\u001b[0m\u001b[0m\n",
      "\u001b[0;31mException\u001b[0m: Bad password nope for user jill"
     ]
    }
   ],
   "source": [
    "# good user, bad passwd\n",
    "\n",
    "foo('jill', 'nope', 3, 4)"
   ]
  },
  {
   "cell_type": "code",
   "execution_count": 17,
   "metadata": {
    "collapsed": false
   },
   "outputs": [
    {
     "data": {
      "text/plain": [
       "39"
      ]
     },
     "execution_count": 17,
     "metadata": {},
     "output_type": "execute_result"
    }
   ],
   "source": [
    "# works with keywords\n",
    "\n",
    "bar('jill', 'jillpw', 5, b=34)\n"
   ]
  },
  {
   "cell_type": "markdown",
   "metadata": {},
   "source": [
    "# Problem 4\n",
    "- write short helper functions for problem 5"
   ]
  },
  {
   "cell_type": "markdown",
   "metadata": {},
   "source": [
    "# write isPrime predicate\n",
    "- first check some special cases, then starting with 3, try each odd number until the square of the odd is bigger than the number being tested\n",
    "- use '%' to check divisors \n",
    "    - for example, 0 == n % 2 will be true if n is even"
   ]
  },
  {
   "cell_type": "code",
   "execution_count": 50,
   "metadata": {
    "collapsed": false
   },
   "outputs": [
    {
     "data": {
      "text/plain": [
       "[[1, False],\n",
       " [2, True],\n",
       " [3, True],\n",
       " [8, False],\n",
       " [23, True],\n",
       " [25, False],\n",
       " [31, True],\n",
       " [33, False],\n",
       " [91, False]]"
      ]
     },
     "execution_count": 50,
     "metadata": {},
     "output_type": "execute_result"
    }
   ],
   "source": [
    "def isPrime(n):\n",
    "    x = [False,True,True,False,True,False,True,False]\n",
    "    if n<9:\n",
    "        return x[n-1]\n",
    "    k = 3\n",
    "    if n%2 == 0:\n",
    "        return False\n",
    "    while k*k<=n:\n",
    "        if 0 == n%k:\n",
    "            return False\n",
    "        k+=2\n",
    "        \n",
    "    return True\n",
    "    \n",
    "#x = [False,True,True,False,True,False,True,False]\n",
    "\n",
    "[[n,isPrime(n)] for n in [1,2,3,8,23,25,31,33,91]]"
   ]
  },
  {
   "cell_type": "markdown",
   "metadata": {},
   "source": [
    "# write genPrimes\n",
    "- a prime number generator"
   ]
  },
  {
   "cell_type": "code",
   "execution_count": 45,
   "metadata": {
    "collapsed": false
   },
   "outputs": [
    {
     "data": {
      "text/plain": [
       "[2, 3, 5, 7, 11, 13, 17, 19, 23, 29, 31, 37, 41, 43, 47, 53, 59, 61, 67, 71]"
      ]
     },
     "execution_count": 45,
     "metadata": {},
     "output_type": "execute_result"
    }
   ],
   "source": [
    "import itertools\n",
    "\n",
    "g = genPrimes()\n",
    "\n",
    "list(itertools.islice(g, 0, 20))\n"
   ]
  },
  {
   "cell_type": "markdown",
   "metadata": {},
   "source": [
    "# write differences\n",
    "- computes the difference between adjacent elements\n",
    "- result list is one shorter than input list"
   ]
  },
  {
   "cell_type": "code",
   "execution_count": 31,
   "metadata": {
    "collapsed": false
   },
   "outputs": [
    {
     "data": {
      "text/plain": [
       "[2, 1, 18, 11]"
      ]
     },
     "execution_count": 31,
     "metadata": {},
     "output_type": "execute_result"
    }
   ],
   "source": [
    "def differences(listinput):\n",
    "    listoutput = listinput[0:len(listinput)-1]\n",
    "    for idx, val in enumerate(listinput[0:len(listinput)-1]):\n",
    "        listoutput[idx] = listinput[idx+1] - listinput[idx]\n",
    "    return listoutput\n",
    "differences([1,3,4,22,33])\n"
   ]
  },
  {
   "cell_type": "markdown",
   "metadata": {},
   "source": [
    "# define same\n",
    "- true if all list elements are the same"
   ]
  },
  {
   "cell_type": "code",
   "execution_count": 32,
   "metadata": {
    "collapsed": false
   },
   "outputs": [
    {
     "data": {
      "text/plain": [
       "[True, True, False]"
      ]
     },
     "execution_count": 32,
     "metadata": {},
     "output_type": "execute_result"
    }
   ],
   "source": [
    "def same(listinput):\n",
    "    return listinput[1:] == listinput[:-1]\n",
    "[same([]), same([3,3,3,3,3]), same([3,3,3,3,3,8,3])]"
   ]
  },
  {
   "cell_type": "markdown",
   "metadata": {},
   "source": [
    "# define arithmetic\n",
    "- in an arithmetic sequence, the difference between consecutive elements is the same\n",
    "- use differences and same"
   ]
  },
  {
   "cell_type": "code",
   "execution_count": 34,
   "metadata": {
    "collapsed": false
   },
   "outputs": [
    {
     "data": {
      "text/plain": [
       "[True, False]"
      ]
     },
     "execution_count": 34,
     "metadata": {},
     "output_type": "execute_result"
    }
   ],
   "source": [
    "def arithemetic(lst):\n",
    "    temp = differences(lst)\n",
    "    return same(temp)\n",
    "[arithemetic([0,2,4]), arithemetic([3,7,9])]"
   ]
  },
  {
   "cell_type": "markdown",
   "metadata": {},
   "source": [
    "# define primes4\n",
    "- find all the 4 digit primes"
   ]
  },
  {
   "cell_type": "code",
   "execution_count": 51,
   "metadata": {
    "collapsed": false
   },
   "outputs": [
    {
     "data": {
      "text/plain": [
       "[1061,\n",
       " [1009, 1013, 1019, 1021, 1031, 1033, 1039, 1049, 1051, 1061],\n",
       " [9887, 9901, 9907, 9923, 9929, 9931, 9941, 9949, 9967, 9973]]"
      ]
     },
     "execution_count": 51,
     "metadata": {},
     "output_type": "execute_result"
    }
   ],
   "source": [
    "def primes4():\n",
    "    res = []\n",
    "    for x in range(1000,10000):\n",
    "        if isPrime(x):\n",
    "            res.append(x)\n",
    "    return res\n",
    "p4 = primes4()\n",
    "[len(p4),p4[:10], p4[-10:]]"
   ]
  },
  {
   "cell_type": "markdown",
   "metadata": {},
   "source": [
    "# Problem 5\n",
    "- look at the 4 digit primes\n",
    "- it turns out there are two triples of primes such that:\n",
    "    - the digits of the primes are permutations of each other\n",
    "    - the primes in increasing order are an arithmetic sequence\n",
    "- one of the triples is [2969, 6299, 9629]"
   ]
  },
  {
   "cell_type": "code",
   "execution_count": 33,
   "metadata": {
    "collapsed": false
   },
   "outputs": [
    {
     "data": {
      "text/plain": [
       "[[3330, 3330], True, [True, True, True]]"
      ]
     },
     "execution_count": 33,
     "metadata": {},
     "output_type": "execute_result"
    }
   ],
   "source": [
    "trip=[2969, 6299, 9629]\n",
    "[differences(trip),arithemetic(trip), list(map(isPrime, trip))]"
   ]
  },
  {
   "cell_type": "markdown",
   "metadata": {},
   "source": [
    "# write findTriples\n",
    "- findTriples has three parts:\n",
    "    - invent a scheme for generating a key from the primes\n",
    "        - for example, 1013, 1031, 1103, 1301, 3011 should all map into the same key\n",
    "    - build a dictionary \n",
    "        - a key's value should hold all the 4 digit prime permutations of a given digit set\n",
    "    - once the dictionary is built:\n",
    "        - for each set of numbers in a key value, \n",
    "        - try every length 3 combination and see if it is an arithmetic sequence\n",
    "        - itertools.combinations is your friend - note it preserves sequence order\n",
    "    - return a list of the triplets"
   ]
  },
  {
   "cell_type": "code",
   "execution_count": 76,
   "metadata": {
    "collapsed": false
   },
   "outputs": [
    {
     "data": {
      "text/plain": [
       "[(2969, 6299, 9629), (1487, 4817, 8147)]"
      ]
     },
     "execution_count": 76,
     "metadata": {},
     "output_type": "execute_result"
    }
   ],
   "source": [
    "from itertools import *\n",
    "def findTriples():\n",
    "    p4 = primes4()\n",
    "    dict = {}\n",
    "    outlist = []\n",
    "    for x in p4:\n",
    "        key = \"\".join(sorted(str(x)))\n",
    "        if dict.get(key)== None:\n",
    "            dict[key] = []\n",
    "        dict[key].append(x)\n",
    "    #list(combinations(dict['0013'],3))\n",
    "    for x in dict.values():\n",
    "        if len(x) >= 3:\n",
    "            small_list = list(combinations(x,3))\n",
    "            for y in small_list:\n",
    "                #print(y)\n",
    "                if arithemetic(list(y)):\n",
    "                    outlist.append(y)\n",
    "    return outlist\n",
    "\n",
    "\n",
    "t = findTriples()\n",
    "t       \n",
    "\n",
    "\n",
    "      \n",
    "#list(combinations(dict['3667'],3))       \n",
    "#t1, t2 = findTriples()\n",
    "#[t2, differences(t2)]\n",
    "#number = 5011\n",
    "#\"\".join(sorted(str(number)))"
   ]
  },
  {
   "cell_type": "code",
   "execution_count": null,
   "metadata": {
    "collapsed": true
   },
   "outputs": [],
   "source": []
  }
 ],
 "metadata": {
  "kernelspec": {
   "display_name": "Python 3",
   "language": "python",
   "name": "python3"
  },
  "language_info": {
   "codemirror_mode": {
    "name": "ipython",
    "version": 3
   },
   "file_extension": ".py",
   "mimetype": "text/x-python",
   "name": "python",
   "nbconvert_exporter": "python",
   "pygments_lexer": "ipython3",
   "version": "3.4.4"
  }
 },
 "nbformat": 4,
 "nbformat_minor": 0
}
